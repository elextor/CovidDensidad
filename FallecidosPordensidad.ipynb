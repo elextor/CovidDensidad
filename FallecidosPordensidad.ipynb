{
 "cells": [
  {
   "cell_type": "code",
   "execution_count": 1,
   "id": "1ee98a53",
   "metadata": {},
   "outputs": [],
   "source": [
    "import pandas as pd"
   ]
  },
  {
   "cell_type": "markdown",
   "id": "e2c90dc2",
   "metadata": {},
   "source": [
    "# Import superficie"
   ]
  },
  {
   "cell_type": "code",
   "execution_count": 2,
   "id": "24dbfed4",
   "metadata": {},
   "outputs": [
    {
     "data": {
      "text/html": [
       "<div>\n",
       "<style scoped>\n",
       "    .dataframe tbody tr th:only-of-type {\n",
       "        vertical-align: middle;\n",
       "    }\n",
       "\n",
       "    .dataframe tbody tr th {\n",
       "        vertical-align: top;\n",
       "    }\n",
       "\n",
       "    .dataframe thead th {\n",
       "        text-align: right;\n",
       "    }\n",
       "</style>\n",
       "<table border=\"1\" class=\"dataframe\">\n",
       "  <thead>\n",
       "    <tr style=\"text-align: right;\">\n",
       "      <th></th>\n",
       "      <th>DEPARTAMENTO</th>\n",
       "      <th>SUPERFICIE</th>\n",
       "    </tr>\n",
       "  </thead>\n",
       "  <tbody>\n",
       "    <tr>\n",
       "      <th>0</th>\n",
       "      <td>AMAZONAS</td>\n",
       "      <td>39249</td>\n",
       "    </tr>\n",
       "    <tr>\n",
       "      <th>1</th>\n",
       "      <td>ANCASH</td>\n",
       "      <td>35914</td>\n",
       "    </tr>\n",
       "    <tr>\n",
       "      <th>2</th>\n",
       "      <td>APURIMAC</td>\n",
       "      <td>20895</td>\n",
       "    </tr>\n",
       "    <tr>\n",
       "      <th>3</th>\n",
       "      <td>AREQUIPA</td>\n",
       "      <td>63345</td>\n",
       "    </tr>\n",
       "    <tr>\n",
       "      <th>4</th>\n",
       "      <td>AYACUCHO</td>\n",
       "      <td>43814</td>\n",
       "    </tr>\n",
       "    <tr>\n",
       "      <th>5</th>\n",
       "      <td>CAJAMARCA</td>\n",
       "      <td>33317</td>\n",
       "    </tr>\n",
       "    <tr>\n",
       "      <th>6</th>\n",
       "      <td>CALLAO</td>\n",
       "      <td>146</td>\n",
       "    </tr>\n",
       "    <tr>\n",
       "      <th>7</th>\n",
       "      <td>CUSCO</td>\n",
       "      <td>71986</td>\n",
       "    </tr>\n",
       "    <tr>\n",
       "      <th>8</th>\n",
       "      <td>HUANCAVELICA</td>\n",
       "      <td>22131</td>\n",
       "    </tr>\n",
       "    <tr>\n",
       "      <th>9</th>\n",
       "      <td>HUANUCO</td>\n",
       "      <td>36848</td>\n",
       "    </tr>\n",
       "    <tr>\n",
       "      <th>10</th>\n",
       "      <td>ICA</td>\n",
       "      <td>21327</td>\n",
       "    </tr>\n",
       "    <tr>\n",
       "      <th>11</th>\n",
       "      <td>JUNIN</td>\n",
       "      <td>44197</td>\n",
       "    </tr>\n",
       "    <tr>\n",
       "      <th>12</th>\n",
       "      <td>LA LIBERTAD</td>\n",
       "      <td>25495</td>\n",
       "    </tr>\n",
       "    <tr>\n",
       "      <th>13</th>\n",
       "      <td>LAMBAYEQUE</td>\n",
       "      <td>14231</td>\n",
       "    </tr>\n",
       "    <tr>\n",
       "      <th>14</th>\n",
       "      <td>LIMA</td>\n",
       "      <td>34796</td>\n",
       "    </tr>\n",
       "    <tr>\n",
       "      <th>15</th>\n",
       "      <td>LORETO</td>\n",
       "      <td>368851</td>\n",
       "    </tr>\n",
       "    <tr>\n",
       "      <th>16</th>\n",
       "      <td>MADRE DE DIOS</td>\n",
       "      <td>85300</td>\n",
       "    </tr>\n",
       "    <tr>\n",
       "      <th>17</th>\n",
       "      <td>MOQUEGUA</td>\n",
       "      <td>15733</td>\n",
       "    </tr>\n",
       "    <tr>\n",
       "      <th>18</th>\n",
       "      <td>PASCO</td>\n",
       "      <td>25319</td>\n",
       "    </tr>\n",
       "    <tr>\n",
       "      <th>19</th>\n",
       "      <td>PIURA</td>\n",
       "      <td>35892</td>\n",
       "    </tr>\n",
       "    <tr>\n",
       "      <th>20</th>\n",
       "      <td>PUNO</td>\n",
       "      <td>71999</td>\n",
       "    </tr>\n",
       "    <tr>\n",
       "      <th>21</th>\n",
       "      <td>SAN MARTIN</td>\n",
       "      <td>51253</td>\n",
       "    </tr>\n",
       "    <tr>\n",
       "      <th>22</th>\n",
       "      <td>TACNA</td>\n",
       "      <td>51253</td>\n",
       "    </tr>\n",
       "    <tr>\n",
       "      <th>23</th>\n",
       "      <td>TUMBES</td>\n",
       "      <td>4669</td>\n",
       "    </tr>\n",
       "    <tr>\n",
       "      <th>24</th>\n",
       "      <td>UCAYALI</td>\n",
       "      <td>102410</td>\n",
       "    </tr>\n",
       "  </tbody>\n",
       "</table>\n",
       "</div>"
      ],
      "text/plain": [
       "     DEPARTAMENTO  SUPERFICIE\n",
       "0        AMAZONAS       39249\n",
       "1          ANCASH       35914\n",
       "2        APURIMAC       20895\n",
       "3        AREQUIPA       63345\n",
       "4        AYACUCHO       43814\n",
       "5       CAJAMARCA       33317\n",
       "6          CALLAO         146\n",
       "7           CUSCO       71986\n",
       "8    HUANCAVELICA       22131\n",
       "9         HUANUCO       36848\n",
       "10            ICA       21327\n",
       "11          JUNIN       44197\n",
       "12    LA LIBERTAD       25495\n",
       "13     LAMBAYEQUE       14231\n",
       "14           LIMA       34796\n",
       "15         LORETO      368851\n",
       "16  MADRE DE DIOS       85300\n",
       "17       MOQUEGUA       15733\n",
       "18          PASCO       25319\n",
       "19          PIURA       35892\n",
       "20           PUNO       71999\n",
       "21     SAN MARTIN       51253\n",
       "22          TACNA       51253\n",
       "23         TUMBES        4669\n",
       "24        UCAYALI      102410"
      ]
     },
     "execution_count": 2,
     "metadata": {},
     "output_type": "execute_result"
    }
   ],
   "source": [
    "path6=\"C:/Users/elextor/Documents/data/superficie.csv\"\n",
    "superficie=pd.read_csv(path6, sep=\";\", encoding='ISO-8859-1')\n",
    "superficie # superficie redondeada a 0 "
   ]
  },
  {
   "cell_type": "code",
   "execution_count": null,
   "id": "9c11ade4",
   "metadata": {},
   "outputs": [],
   "source": []
  },
  {
   "cell_type": "markdown",
   "id": "742c49a1",
   "metadata": {},
   "source": [
    "# import poblacion"
   ]
  },
  {
   "cell_type": "code",
   "execution_count": 4,
   "id": "70ffcbe2",
   "metadata": {},
   "outputs": [
    {
     "data": {
      "text/html": [
       "<div>\n",
       "<style scoped>\n",
       "    .dataframe tbody tr th:only-of-type {\n",
       "        vertical-align: middle;\n",
       "    }\n",
       "\n",
       "    .dataframe tbody tr th {\n",
       "        vertical-align: top;\n",
       "    }\n",
       "\n",
       "    .dataframe thead th {\n",
       "        text-align: right;\n",
       "    }\n",
       "</style>\n",
       "<table border=\"1\" class=\"dataframe\">\n",
       "  <thead>\n",
       "    <tr style=\"text-align: right;\">\n",
       "      <th></th>\n",
       "      <th>ï»¿ubigeo_reniec</th>\n",
       "      <th>ubigeo_inei</th>\n",
       "      <th>Departamento</th>\n",
       "      <th>Provincia</th>\n",
       "      <th>Distrito</th>\n",
       "      <th>Edad_Anio</th>\n",
       "      <th>Sexo</th>\n",
       "      <th>Cantidad</th>\n",
       "    </tr>\n",
       "  </thead>\n",
       "  <tbody>\n",
       "    <tr>\n",
       "      <th>0</th>\n",
       "      <td>21406</td>\n",
       "      <td>21910</td>\n",
       "      <td>ANCASH</td>\n",
       "      <td>SIHUAS</td>\n",
       "      <td>SICSIBAMBA</td>\n",
       "      <td>6</td>\n",
       "      <td>M</td>\n",
       "      <td>9</td>\n",
       "    </tr>\n",
       "    <tr>\n",
       "      <th>1</th>\n",
       "      <td>21406</td>\n",
       "      <td>21910</td>\n",
       "      <td>ANCASH</td>\n",
       "      <td>SIHUAS</td>\n",
       "      <td>SICSIBAMBA</td>\n",
       "      <td>65-69</td>\n",
       "      <td>F</td>\n",
       "      <td>23</td>\n",
       "    </tr>\n",
       "    <tr>\n",
       "      <th>2</th>\n",
       "      <td>21406</td>\n",
       "      <td>21910</td>\n",
       "      <td>ANCASH</td>\n",
       "      <td>SIHUAS</td>\n",
       "      <td>SICSIBAMBA</td>\n",
       "      <td>65-69</td>\n",
       "      <td>M</td>\n",
       "      <td>25</td>\n",
       "    </tr>\n",
       "    <tr>\n",
       "      <th>3</th>\n",
       "      <td>21406</td>\n",
       "      <td>21910</td>\n",
       "      <td>ANCASH</td>\n",
       "      <td>SIHUAS</td>\n",
       "      <td>SICSIBAMBA</td>\n",
       "      <td>60-64</td>\n",
       "      <td>F</td>\n",
       "      <td>40</td>\n",
       "    </tr>\n",
       "    <tr>\n",
       "      <th>4</th>\n",
       "      <td>21406</td>\n",
       "      <td>21910</td>\n",
       "      <td>ANCASH</td>\n",
       "      <td>SIHUAS</td>\n",
       "      <td>SICSIBAMBA</td>\n",
       "      <td>60-64</td>\n",
       "      <td>M</td>\n",
       "      <td>30</td>\n",
       "    </tr>\n",
       "    <tr>\n",
       "      <th>...</th>\n",
       "      <td>...</td>\n",
       "      <td>...</td>\n",
       "      <td>...</td>\n",
       "      <td>...</td>\n",
       "      <td>...</td>\n",
       "      <td>...</td>\n",
       "      <td>...</td>\n",
       "      <td>...</td>\n",
       "    </tr>\n",
       "    <tr>\n",
       "      <th>123679</th>\n",
       "      <td>21507</td>\n",
       "      <td>22007</td>\n",
       "      <td>ANCASH</td>\n",
       "      <td>YUNGAY</td>\n",
       "      <td>SHUPLUY</td>\n",
       "      <td>18</td>\n",
       "      <td>M</td>\n",
       "      <td>21</td>\n",
       "    </tr>\n",
       "    <tr>\n",
       "      <th>123680</th>\n",
       "      <td>21507</td>\n",
       "      <td>22007</td>\n",
       "      <td>ANCASH</td>\n",
       "      <td>YUNGAY</td>\n",
       "      <td>SHUPLUY</td>\n",
       "      <td>17</td>\n",
       "      <td>F</td>\n",
       "      <td>22</td>\n",
       "    </tr>\n",
       "    <tr>\n",
       "      <th>123681</th>\n",
       "      <td>21507</td>\n",
       "      <td>22007</td>\n",
       "      <td>ANCASH</td>\n",
       "      <td>YUNGAY</td>\n",
       "      <td>SHUPLUY</td>\n",
       "      <td>17</td>\n",
       "      <td>M</td>\n",
       "      <td>16</td>\n",
       "    </tr>\n",
       "    <tr>\n",
       "      <th>123682</th>\n",
       "      <td>21507</td>\n",
       "      <td>22007</td>\n",
       "      <td>ANCASH</td>\n",
       "      <td>YUNGAY</td>\n",
       "      <td>SHUPLUY</td>\n",
       "      <td>16</td>\n",
       "      <td>F</td>\n",
       "      <td>16</td>\n",
       "    </tr>\n",
       "    <tr>\n",
       "      <th>123683</th>\n",
       "      <td>21507</td>\n",
       "      <td>22007</td>\n",
       "      <td>ANCASH</td>\n",
       "      <td>YUNGAY</td>\n",
       "      <td>SHUPLUY</td>\n",
       "      <td>16</td>\n",
       "      <td>M</td>\n",
       "      <td>25</td>\n",
       "    </tr>\n",
       "  </tbody>\n",
       "</table>\n",
       "<p>123684 rows × 8 columns</p>\n",
       "</div>"
      ],
      "text/plain": [
       "        ï»¿ubigeo_reniec  ubigeo_inei Departamento Provincia    Distrito  \\\n",
       "0                  21406        21910       ANCASH    SIHUAS  SICSIBAMBA   \n",
       "1                  21406        21910       ANCASH    SIHUAS  SICSIBAMBA   \n",
       "2                  21406        21910       ANCASH    SIHUAS  SICSIBAMBA   \n",
       "3                  21406        21910       ANCASH    SIHUAS  SICSIBAMBA   \n",
       "4                  21406        21910       ANCASH    SIHUAS  SICSIBAMBA   \n",
       "...                  ...          ...          ...       ...         ...   \n",
       "123679             21507        22007       ANCASH    YUNGAY     SHUPLUY   \n",
       "123680             21507        22007       ANCASH    YUNGAY     SHUPLUY   \n",
       "123681             21507        22007       ANCASH    YUNGAY     SHUPLUY   \n",
       "123682             21507        22007       ANCASH    YUNGAY     SHUPLUY   \n",
       "123683             21507        22007       ANCASH    YUNGAY     SHUPLUY   \n",
       "\n",
       "       Edad_Anio Sexo  Cantidad  \n",
       "0              6    M         9  \n",
       "1          65-69    F        23  \n",
       "2          65-69    M        25  \n",
       "3          60-64    F        40  \n",
       "4          60-64    M        30  \n",
       "...          ...  ...       ...  \n",
       "123679        18    M        21  \n",
       "123680        17    F        22  \n",
       "123681        17    M        16  \n",
       "123682        16    F        16  \n",
       "123683        16    M        25  \n",
       "\n",
       "[123684 rows x 8 columns]"
      ]
     },
     "execution_count": 4,
     "metadata": {},
     "output_type": "execute_result"
    }
   ],
   "source": [
    "path4=\"C:/Users/elextor/Documents/data/poblacion_inei.csv\"\n",
    "df_poblacion=pd.read_csv(path4, sep=\",\", encoding='ISO-8859-1')\n",
    "df_poblacion"
   ]
  },
  {
   "cell_type": "code",
   "execution_count": 5,
   "id": "d5ecec70",
   "metadata": {},
   "outputs": [
    {
     "data": {
      "text/html": [
       "<div>\n",
       "<style scoped>\n",
       "    .dataframe tbody tr th:only-of-type {\n",
       "        vertical-align: middle;\n",
       "    }\n",
       "\n",
       "    .dataframe tbody tr th {\n",
       "        vertical-align: top;\n",
       "    }\n",
       "\n",
       "    .dataframe thead th {\n",
       "        text-align: right;\n",
       "    }\n",
       "</style>\n",
       "<table border=\"1\" class=\"dataframe\">\n",
       "  <thead>\n",
       "    <tr style=\"text-align: right;\">\n",
       "      <th></th>\n",
       "      <th>Departamento</th>\n",
       "      <th>Cantidad</th>\n",
       "    </tr>\n",
       "  </thead>\n",
       "  <tbody>\n",
       "    <tr>\n",
       "      <th>0</th>\n",
       "      <td>MADRE DE DIOS</td>\n",
       "      <td>150181</td>\n",
       "    </tr>\n",
       "    <tr>\n",
       "      <th>1</th>\n",
       "      <td>MOQUEGUA</td>\n",
       "      <td>187941</td>\n",
       "    </tr>\n",
       "    <tr>\n",
       "      <th>2</th>\n",
       "      <td>TUMBES</td>\n",
       "      <td>248877</td>\n",
       "    </tr>\n",
       "    <tr>\n",
       "      <th>3</th>\n",
       "      <td>PASCO</td>\n",
       "      <td>312777</td>\n",
       "    </tr>\n",
       "    <tr>\n",
       "      <th>4</th>\n",
       "      <td>TACNA</td>\n",
       "      <td>358314</td>\n",
       "    </tr>\n",
       "    <tr>\n",
       "      <th>5</th>\n",
       "      <td>AMAZONAS</td>\n",
       "      <td>427041</td>\n",
       "    </tr>\n",
       "    <tr>\n",
       "      <th>6</th>\n",
       "      <td>APURIMAC</td>\n",
       "      <td>466936</td>\n",
       "    </tr>\n",
       "    <tr>\n",
       "      <th>7</th>\n",
       "      <td>HUANCAVELICA</td>\n",
       "      <td>509117</td>\n",
       "    </tr>\n",
       "    <tr>\n",
       "      <th>8</th>\n",
       "      <td>UCAYALI</td>\n",
       "      <td>518190</td>\n",
       "    </tr>\n",
       "    <tr>\n",
       "      <th>9</th>\n",
       "      <td>AYACUCHO</td>\n",
       "      <td>718634</td>\n",
       "    </tr>\n",
       "    <tr>\n",
       "      <th>10</th>\n",
       "      <td>ICA</td>\n",
       "      <td>817965</td>\n",
       "    </tr>\n",
       "    <tr>\n",
       "      <th>11</th>\n",
       "      <td>SAN MARTIN</td>\n",
       "      <td>884795</td>\n",
       "    </tr>\n",
       "    <tr>\n",
       "      <th>12</th>\n",
       "      <td>HUANUCO</td>\n",
       "      <td>889134</td>\n",
       "    </tr>\n",
       "    <tr>\n",
       "      <th>13</th>\n",
       "      <td>CALLAO</td>\n",
       "      <td>1067815</td>\n",
       "    </tr>\n",
       "    <tr>\n",
       "      <th>14</th>\n",
       "      <td>LORETO</td>\n",
       "      <td>1077831</td>\n",
       "    </tr>\n",
       "    <tr>\n",
       "      <th>15</th>\n",
       "      <td>ANCASH</td>\n",
       "      <td>1171756</td>\n",
       "    </tr>\n",
       "    <tr>\n",
       "      <th>16</th>\n",
       "      <td>LAMBAYEQUE</td>\n",
       "      <td>1300720</td>\n",
       "    </tr>\n",
       "    <tr>\n",
       "      <th>17</th>\n",
       "      <td>CUSCO</td>\n",
       "      <td>1346373</td>\n",
       "    </tr>\n",
       "    <tr>\n",
       "      <th>18</th>\n",
       "      <td>AREQUIPA</td>\n",
       "      <td>1350676</td>\n",
       "    </tr>\n",
       "    <tr>\n",
       "      <th>19</th>\n",
       "      <td>JUNIN</td>\n",
       "      <td>1389850</td>\n",
       "    </tr>\n",
       "    <tr>\n",
       "      <th>20</th>\n",
       "      <td>PUNO</td>\n",
       "      <td>1471405</td>\n",
       "    </tr>\n",
       "    <tr>\n",
       "      <th>21</th>\n",
       "      <td>CAJAMARCA</td>\n",
       "      <td>1543104</td>\n",
       "    </tr>\n",
       "    <tr>\n",
       "      <th>22</th>\n",
       "      <td>PIURA</td>\n",
       "      <td>1901896</td>\n",
       "    </tr>\n",
       "    <tr>\n",
       "      <th>23</th>\n",
       "      <td>LA LIBERTAD</td>\n",
       "      <td>1956389</td>\n",
       "    </tr>\n",
       "    <tr>\n",
       "      <th>24</th>\n",
       "      <td>LIMA</td>\n",
       "      <td>10458367</td>\n",
       "    </tr>\n",
       "  </tbody>\n",
       "</table>\n",
       "</div>"
      ],
      "text/plain": [
       "     Departamento  Cantidad\n",
       "0   MADRE DE DIOS    150181\n",
       "1        MOQUEGUA    187941\n",
       "2          TUMBES    248877\n",
       "3           PASCO    312777\n",
       "4           TACNA    358314\n",
       "5        AMAZONAS    427041\n",
       "6        APURIMAC    466936\n",
       "7    HUANCAVELICA    509117\n",
       "8         UCAYALI    518190\n",
       "9        AYACUCHO    718634\n",
       "10            ICA    817965\n",
       "11     SAN MARTIN    884795\n",
       "12        HUANUCO    889134\n",
       "13         CALLAO   1067815\n",
       "14         LORETO   1077831\n",
       "15         ANCASH   1171756\n",
       "16     LAMBAYEQUE   1300720\n",
       "17          CUSCO   1346373\n",
       "18       AREQUIPA   1350676\n",
       "19          JUNIN   1389850\n",
       "20           PUNO   1471405\n",
       "21      CAJAMARCA   1543104\n",
       "22          PIURA   1901896\n",
       "23    LA LIBERTAD   1956389\n",
       "24           LIMA  10458367"
      ]
     },
     "execution_count": 5,
     "metadata": {},
     "output_type": "execute_result"
    }
   ],
   "source": [
    "df_poblacion = df_poblacion.groupby('Departamento')['Cantidad'].sum().round(2).sort_values()\n",
    "df_poblacion=pd.DataFrame(df_poblacion)\n",
    "df_poblacion=df_poblacion.reset_index()\n",
    "df_poblacion"
   ]
  },
  {
   "cell_type": "code",
   "execution_count": 6,
   "id": "b9f53df6",
   "metadata": {},
   "outputs": [
    {
     "data": {
      "text/html": [
       "<div>\n",
       "<style scoped>\n",
       "    .dataframe tbody tr th:only-of-type {\n",
       "        vertical-align: middle;\n",
       "    }\n",
       "\n",
       "    .dataframe tbody tr th {\n",
       "        vertical-align: top;\n",
       "    }\n",
       "\n",
       "    .dataframe thead th {\n",
       "        text-align: right;\n",
       "    }\n",
       "</style>\n",
       "<table border=\"1\" class=\"dataframe\">\n",
       "  <thead>\n",
       "    <tr style=\"text-align: right;\">\n",
       "      <th></th>\n",
       "      <th>DEPARTAMENTO</th>\n",
       "      <th>Cantidad</th>\n",
       "    </tr>\n",
       "  </thead>\n",
       "  <tbody>\n",
       "    <tr>\n",
       "      <th>0</th>\n",
       "      <td>MADRE DE DIOS</td>\n",
       "      <td>150181</td>\n",
       "    </tr>\n",
       "    <tr>\n",
       "      <th>1</th>\n",
       "      <td>MOQUEGUA</td>\n",
       "      <td>187941</td>\n",
       "    </tr>\n",
       "    <tr>\n",
       "      <th>2</th>\n",
       "      <td>TUMBES</td>\n",
       "      <td>248877</td>\n",
       "    </tr>\n",
       "    <tr>\n",
       "      <th>3</th>\n",
       "      <td>PASCO</td>\n",
       "      <td>312777</td>\n",
       "    </tr>\n",
       "    <tr>\n",
       "      <th>4</th>\n",
       "      <td>TACNA</td>\n",
       "      <td>358314</td>\n",
       "    </tr>\n",
       "    <tr>\n",
       "      <th>5</th>\n",
       "      <td>AMAZONAS</td>\n",
       "      <td>427041</td>\n",
       "    </tr>\n",
       "    <tr>\n",
       "      <th>6</th>\n",
       "      <td>APURIMAC</td>\n",
       "      <td>466936</td>\n",
       "    </tr>\n",
       "    <tr>\n",
       "      <th>7</th>\n",
       "      <td>HUANCAVELICA</td>\n",
       "      <td>509117</td>\n",
       "    </tr>\n",
       "    <tr>\n",
       "      <th>8</th>\n",
       "      <td>UCAYALI</td>\n",
       "      <td>518190</td>\n",
       "    </tr>\n",
       "    <tr>\n",
       "      <th>9</th>\n",
       "      <td>AYACUCHO</td>\n",
       "      <td>718634</td>\n",
       "    </tr>\n",
       "    <tr>\n",
       "      <th>10</th>\n",
       "      <td>ICA</td>\n",
       "      <td>817965</td>\n",
       "    </tr>\n",
       "    <tr>\n",
       "      <th>11</th>\n",
       "      <td>SAN MARTIN</td>\n",
       "      <td>884795</td>\n",
       "    </tr>\n",
       "    <tr>\n",
       "      <th>12</th>\n",
       "      <td>HUANUCO</td>\n",
       "      <td>889134</td>\n",
       "    </tr>\n",
       "    <tr>\n",
       "      <th>13</th>\n",
       "      <td>CALLAO</td>\n",
       "      <td>1067815</td>\n",
       "    </tr>\n",
       "    <tr>\n",
       "      <th>14</th>\n",
       "      <td>LORETO</td>\n",
       "      <td>1077831</td>\n",
       "    </tr>\n",
       "    <tr>\n",
       "      <th>15</th>\n",
       "      <td>ANCASH</td>\n",
       "      <td>1171756</td>\n",
       "    </tr>\n",
       "    <tr>\n",
       "      <th>16</th>\n",
       "      <td>LAMBAYEQUE</td>\n",
       "      <td>1300720</td>\n",
       "    </tr>\n",
       "    <tr>\n",
       "      <th>17</th>\n",
       "      <td>CUSCO</td>\n",
       "      <td>1346373</td>\n",
       "    </tr>\n",
       "    <tr>\n",
       "      <th>18</th>\n",
       "      <td>AREQUIPA</td>\n",
       "      <td>1350676</td>\n",
       "    </tr>\n",
       "    <tr>\n",
       "      <th>19</th>\n",
       "      <td>JUNIN</td>\n",
       "      <td>1389850</td>\n",
       "    </tr>\n",
       "    <tr>\n",
       "      <th>20</th>\n",
       "      <td>PUNO</td>\n",
       "      <td>1471405</td>\n",
       "    </tr>\n",
       "    <tr>\n",
       "      <th>21</th>\n",
       "      <td>CAJAMARCA</td>\n",
       "      <td>1543104</td>\n",
       "    </tr>\n",
       "    <tr>\n",
       "      <th>22</th>\n",
       "      <td>PIURA</td>\n",
       "      <td>1901896</td>\n",
       "    </tr>\n",
       "    <tr>\n",
       "      <th>23</th>\n",
       "      <td>LA LIBERTAD</td>\n",
       "      <td>1956389</td>\n",
       "    </tr>\n",
       "    <tr>\n",
       "      <th>24</th>\n",
       "      <td>LIMA</td>\n",
       "      <td>10458367</td>\n",
       "    </tr>\n",
       "  </tbody>\n",
       "</table>\n",
       "</div>"
      ],
      "text/plain": [
       "     DEPARTAMENTO  Cantidad\n",
       "0   MADRE DE DIOS    150181\n",
       "1        MOQUEGUA    187941\n",
       "2          TUMBES    248877\n",
       "3           PASCO    312777\n",
       "4           TACNA    358314\n",
       "5        AMAZONAS    427041\n",
       "6        APURIMAC    466936\n",
       "7    HUANCAVELICA    509117\n",
       "8         UCAYALI    518190\n",
       "9        AYACUCHO    718634\n",
       "10            ICA    817965\n",
       "11     SAN MARTIN    884795\n",
       "12        HUANUCO    889134\n",
       "13         CALLAO   1067815\n",
       "14         LORETO   1077831\n",
       "15         ANCASH   1171756\n",
       "16     LAMBAYEQUE   1300720\n",
       "17          CUSCO   1346373\n",
       "18       AREQUIPA   1350676\n",
       "19          JUNIN   1389850\n",
       "20           PUNO   1471405\n",
       "21      CAJAMARCA   1543104\n",
       "22          PIURA   1901896\n",
       "23    LA LIBERTAD   1956389\n",
       "24           LIMA  10458367"
      ]
     },
     "execution_count": 6,
     "metadata": {},
     "output_type": "execute_result"
    }
   ],
   "source": [
    "df_poblacion = df_poblacion.rename(columns={'Departamento': 'DEPARTAMENTO'}) # CAMBIAR NOMBRE DE COLUMNA PARA HAVE U JOIN\n",
    "df_poblacion"
   ]
  },
  {
   "cell_type": "markdown",
   "id": "62cf8fd5",
   "metadata": {},
   "source": [
    "# Densidad"
   ]
  },
  {
   "cell_type": "markdown",
   "id": "3f93400b",
   "metadata": {},
   "source": [
    "## Merge df poblacion on supercicie"
   ]
  },
  {
   "cell_type": "code",
   "execution_count": 9,
   "id": "d32737de",
   "metadata": {},
   "outputs": [
    {
     "data": {
      "text/html": [
       "<div>\n",
       "<style scoped>\n",
       "    .dataframe tbody tr th:only-of-type {\n",
       "        vertical-align: middle;\n",
       "    }\n",
       "\n",
       "    .dataframe tbody tr th {\n",
       "        vertical-align: top;\n",
       "    }\n",
       "\n",
       "    .dataframe thead th {\n",
       "        text-align: right;\n",
       "    }\n",
       "</style>\n",
       "<table border=\"1\" class=\"dataframe\">\n",
       "  <thead>\n",
       "    <tr style=\"text-align: right;\">\n",
       "      <th></th>\n",
       "      <th>DEPARTAMENTO</th>\n",
       "      <th>SUPERFICIE</th>\n",
       "      <th>Cantidad</th>\n",
       "    </tr>\n",
       "  </thead>\n",
       "  <tbody>\n",
       "    <tr>\n",
       "      <th>0</th>\n",
       "      <td>AMAZONAS</td>\n",
       "      <td>39249</td>\n",
       "      <td>427041</td>\n",
       "    </tr>\n",
       "    <tr>\n",
       "      <th>1</th>\n",
       "      <td>ANCASH</td>\n",
       "      <td>35914</td>\n",
       "      <td>1171756</td>\n",
       "    </tr>\n",
       "    <tr>\n",
       "      <th>2</th>\n",
       "      <td>APURIMAC</td>\n",
       "      <td>20895</td>\n",
       "      <td>466936</td>\n",
       "    </tr>\n",
       "    <tr>\n",
       "      <th>3</th>\n",
       "      <td>AREQUIPA</td>\n",
       "      <td>63345</td>\n",
       "      <td>1350676</td>\n",
       "    </tr>\n",
       "    <tr>\n",
       "      <th>4</th>\n",
       "      <td>AYACUCHO</td>\n",
       "      <td>43814</td>\n",
       "      <td>718634</td>\n",
       "    </tr>\n",
       "    <tr>\n",
       "      <th>5</th>\n",
       "      <td>CAJAMARCA</td>\n",
       "      <td>33317</td>\n",
       "      <td>1543104</td>\n",
       "    </tr>\n",
       "    <tr>\n",
       "      <th>6</th>\n",
       "      <td>CALLAO</td>\n",
       "      <td>146</td>\n",
       "      <td>1067815</td>\n",
       "    </tr>\n",
       "    <tr>\n",
       "      <th>7</th>\n",
       "      <td>CUSCO</td>\n",
       "      <td>71986</td>\n",
       "      <td>1346373</td>\n",
       "    </tr>\n",
       "    <tr>\n",
       "      <th>8</th>\n",
       "      <td>HUANCAVELICA</td>\n",
       "      <td>22131</td>\n",
       "      <td>509117</td>\n",
       "    </tr>\n",
       "    <tr>\n",
       "      <th>9</th>\n",
       "      <td>HUANUCO</td>\n",
       "      <td>36848</td>\n",
       "      <td>889134</td>\n",
       "    </tr>\n",
       "    <tr>\n",
       "      <th>10</th>\n",
       "      <td>ICA</td>\n",
       "      <td>21327</td>\n",
       "      <td>817965</td>\n",
       "    </tr>\n",
       "    <tr>\n",
       "      <th>11</th>\n",
       "      <td>JUNIN</td>\n",
       "      <td>44197</td>\n",
       "      <td>1389850</td>\n",
       "    </tr>\n",
       "    <tr>\n",
       "      <th>12</th>\n",
       "      <td>LA LIBERTAD</td>\n",
       "      <td>25495</td>\n",
       "      <td>1956389</td>\n",
       "    </tr>\n",
       "    <tr>\n",
       "      <th>13</th>\n",
       "      <td>LAMBAYEQUE</td>\n",
       "      <td>14231</td>\n",
       "      <td>1300720</td>\n",
       "    </tr>\n",
       "    <tr>\n",
       "      <th>14</th>\n",
       "      <td>LIMA</td>\n",
       "      <td>34796</td>\n",
       "      <td>10458367</td>\n",
       "    </tr>\n",
       "    <tr>\n",
       "      <th>15</th>\n",
       "      <td>LORETO</td>\n",
       "      <td>368851</td>\n",
       "      <td>1077831</td>\n",
       "    </tr>\n",
       "    <tr>\n",
       "      <th>16</th>\n",
       "      <td>MADRE DE DIOS</td>\n",
       "      <td>85300</td>\n",
       "      <td>150181</td>\n",
       "    </tr>\n",
       "    <tr>\n",
       "      <th>17</th>\n",
       "      <td>MOQUEGUA</td>\n",
       "      <td>15733</td>\n",
       "      <td>187941</td>\n",
       "    </tr>\n",
       "    <tr>\n",
       "      <th>18</th>\n",
       "      <td>PASCO</td>\n",
       "      <td>25319</td>\n",
       "      <td>312777</td>\n",
       "    </tr>\n",
       "    <tr>\n",
       "      <th>19</th>\n",
       "      <td>PIURA</td>\n",
       "      <td>35892</td>\n",
       "      <td>1901896</td>\n",
       "    </tr>\n",
       "    <tr>\n",
       "      <th>20</th>\n",
       "      <td>PUNO</td>\n",
       "      <td>71999</td>\n",
       "      <td>1471405</td>\n",
       "    </tr>\n",
       "    <tr>\n",
       "      <th>21</th>\n",
       "      <td>SAN MARTIN</td>\n",
       "      <td>51253</td>\n",
       "      <td>884795</td>\n",
       "    </tr>\n",
       "    <tr>\n",
       "      <th>22</th>\n",
       "      <td>TACNA</td>\n",
       "      <td>51253</td>\n",
       "      <td>358314</td>\n",
       "    </tr>\n",
       "    <tr>\n",
       "      <th>23</th>\n",
       "      <td>TUMBES</td>\n",
       "      <td>4669</td>\n",
       "      <td>248877</td>\n",
       "    </tr>\n",
       "    <tr>\n",
       "      <th>24</th>\n",
       "      <td>UCAYALI</td>\n",
       "      <td>102410</td>\n",
       "      <td>518190</td>\n",
       "    </tr>\n",
       "  </tbody>\n",
       "</table>\n",
       "</div>"
      ],
      "text/plain": [
       "     DEPARTAMENTO  SUPERFICIE  Cantidad\n",
       "0        AMAZONAS       39249    427041\n",
       "1          ANCASH       35914   1171756\n",
       "2        APURIMAC       20895    466936\n",
       "3        AREQUIPA       63345   1350676\n",
       "4        AYACUCHO       43814    718634\n",
       "5       CAJAMARCA       33317   1543104\n",
       "6          CALLAO         146   1067815\n",
       "7           CUSCO       71986   1346373\n",
       "8    HUANCAVELICA       22131    509117\n",
       "9         HUANUCO       36848    889134\n",
       "10            ICA       21327    817965\n",
       "11          JUNIN       44197   1389850\n",
       "12    LA LIBERTAD       25495   1956389\n",
       "13     LAMBAYEQUE       14231   1300720\n",
       "14           LIMA       34796  10458367\n",
       "15         LORETO      368851   1077831\n",
       "16  MADRE DE DIOS       85300    150181\n",
       "17       MOQUEGUA       15733    187941\n",
       "18          PASCO       25319    312777\n",
       "19          PIURA       35892   1901896\n",
       "20           PUNO       71999   1471405\n",
       "21     SAN MARTIN       51253    884795\n",
       "22          TACNA       51253    358314\n",
       "23         TUMBES        4669    248877\n",
       "24        UCAYALI      102410    518190"
      ]
     },
     "execution_count": 9,
     "metadata": {},
     "output_type": "execute_result"
    }
   ],
   "source": [
    "densidad = pd.merge(superficie, df_poblacion, on='DEPARTAMENTO')\n",
    "densidad"
   ]
  },
  {
   "cell_type": "code",
   "execution_count": 10,
   "id": "d270a09c",
   "metadata": {},
   "outputs": [
    {
     "data": {
      "text/html": [
       "<div>\n",
       "<style scoped>\n",
       "    .dataframe tbody tr th:only-of-type {\n",
       "        vertical-align: middle;\n",
       "    }\n",
       "\n",
       "    .dataframe tbody tr th {\n",
       "        vertical-align: top;\n",
       "    }\n",
       "\n",
       "    .dataframe thead th {\n",
       "        text-align: right;\n",
       "    }\n",
       "</style>\n",
       "<table border=\"1\" class=\"dataframe\">\n",
       "  <thead>\n",
       "    <tr style=\"text-align: right;\">\n",
       "      <th></th>\n",
       "      <th>DEPARTAMENTO</th>\n",
       "      <th>SUPERFICIE</th>\n",
       "      <th>Cantidad</th>\n",
       "      <th>Densidad</th>\n",
       "    </tr>\n",
       "  </thead>\n",
       "  <tbody>\n",
       "    <tr>\n",
       "      <th>0</th>\n",
       "      <td>AMAZONAS</td>\n",
       "      <td>39249</td>\n",
       "      <td>427041</td>\n",
       "      <td>10.880303</td>\n",
       "    </tr>\n",
       "    <tr>\n",
       "      <th>1</th>\n",
       "      <td>ANCASH</td>\n",
       "      <td>35914</td>\n",
       "      <td>1171756</td>\n",
       "      <td>32.626719</td>\n",
       "    </tr>\n",
       "    <tr>\n",
       "      <th>2</th>\n",
       "      <td>APURIMAC</td>\n",
       "      <td>20895</td>\n",
       "      <td>466936</td>\n",
       "      <td>22.346782</td>\n",
       "    </tr>\n",
       "    <tr>\n",
       "      <th>3</th>\n",
       "      <td>AREQUIPA</td>\n",
       "      <td>63345</td>\n",
       "      <td>1350676</td>\n",
       "      <td>21.322535</td>\n",
       "    </tr>\n",
       "    <tr>\n",
       "      <th>4</th>\n",
       "      <td>AYACUCHO</td>\n",
       "      <td>43814</td>\n",
       "      <td>718634</td>\n",
       "      <td>16.401926</td>\n",
       "    </tr>\n",
       "    <tr>\n",
       "      <th>5</th>\n",
       "      <td>CAJAMARCA</td>\n",
       "      <td>33317</td>\n",
       "      <td>1543104</td>\n",
       "      <td>46.315815</td>\n",
       "    </tr>\n",
       "    <tr>\n",
       "      <th>6</th>\n",
       "      <td>CALLAO</td>\n",
       "      <td>146</td>\n",
       "      <td>1067815</td>\n",
       "      <td>7313.801370</td>\n",
       "    </tr>\n",
       "    <tr>\n",
       "      <th>7</th>\n",
       "      <td>CUSCO</td>\n",
       "      <td>71986</td>\n",
       "      <td>1346373</td>\n",
       "      <td>18.703262</td>\n",
       "    </tr>\n",
       "    <tr>\n",
       "      <th>8</th>\n",
       "      <td>HUANCAVELICA</td>\n",
       "      <td>22131</td>\n",
       "      <td>509117</td>\n",
       "      <td>23.004699</td>\n",
       "    </tr>\n",
       "    <tr>\n",
       "      <th>9</th>\n",
       "      <td>HUANUCO</td>\n",
       "      <td>36848</td>\n",
       "      <td>889134</td>\n",
       "      <td>24.129776</td>\n",
       "    </tr>\n",
       "    <tr>\n",
       "      <th>10</th>\n",
       "      <td>ICA</td>\n",
       "      <td>21327</td>\n",
       "      <td>817965</td>\n",
       "      <td>38.353496</td>\n",
       "    </tr>\n",
       "    <tr>\n",
       "      <th>11</th>\n",
       "      <td>JUNIN</td>\n",
       "      <td>44197</td>\n",
       "      <td>1389850</td>\n",
       "      <td>31.446705</td>\n",
       "    </tr>\n",
       "    <tr>\n",
       "      <th>12</th>\n",
       "      <td>LA LIBERTAD</td>\n",
       "      <td>25495</td>\n",
       "      <td>1956389</td>\n",
       "      <td>76.736184</td>\n",
       "    </tr>\n",
       "    <tr>\n",
       "      <th>13</th>\n",
       "      <td>LAMBAYEQUE</td>\n",
       "      <td>14231</td>\n",
       "      <td>1300720</td>\n",
       "      <td>91.400464</td>\n",
       "    </tr>\n",
       "    <tr>\n",
       "      <th>14</th>\n",
       "      <td>LIMA</td>\n",
       "      <td>34796</td>\n",
       "      <td>10458367</td>\n",
       "      <td>300.562335</td>\n",
       "    </tr>\n",
       "    <tr>\n",
       "      <th>15</th>\n",
       "      <td>LORETO</td>\n",
       "      <td>368851</td>\n",
       "      <td>1077831</td>\n",
       "      <td>2.922131</td>\n",
       "    </tr>\n",
       "    <tr>\n",
       "      <th>16</th>\n",
       "      <td>MADRE DE DIOS</td>\n",
       "      <td>85300</td>\n",
       "      <td>150181</td>\n",
       "      <td>1.760621</td>\n",
       "    </tr>\n",
       "    <tr>\n",
       "      <th>17</th>\n",
       "      <td>MOQUEGUA</td>\n",
       "      <td>15733</td>\n",
       "      <td>187941</td>\n",
       "      <td>11.945656</td>\n",
       "    </tr>\n",
       "    <tr>\n",
       "      <th>18</th>\n",
       "      <td>PASCO</td>\n",
       "      <td>25319</td>\n",
       "      <td>312777</td>\n",
       "      <td>12.353450</td>\n",
       "    </tr>\n",
       "    <tr>\n",
       "      <th>19</th>\n",
       "      <td>PIURA</td>\n",
       "      <td>35892</td>\n",
       "      <td>1901896</td>\n",
       "      <td>52.989413</td>\n",
       "    </tr>\n",
       "    <tr>\n",
       "      <th>20</th>\n",
       "      <td>PUNO</td>\n",
       "      <td>71999</td>\n",
       "      <td>1471405</td>\n",
       "      <td>20.436464</td>\n",
       "    </tr>\n",
       "    <tr>\n",
       "      <th>21</th>\n",
       "      <td>SAN MARTIN</td>\n",
       "      <td>51253</td>\n",
       "      <td>884795</td>\n",
       "      <td>17.263282</td>\n",
       "    </tr>\n",
       "    <tr>\n",
       "      <th>22</th>\n",
       "      <td>TACNA</td>\n",
       "      <td>51253</td>\n",
       "      <td>358314</td>\n",
       "      <td>6.991083</td>\n",
       "    </tr>\n",
       "    <tr>\n",
       "      <th>23</th>\n",
       "      <td>TUMBES</td>\n",
       "      <td>4669</td>\n",
       "      <td>248877</td>\n",
       "      <td>53.304134</td>\n",
       "    </tr>\n",
       "    <tr>\n",
       "      <th>24</th>\n",
       "      <td>UCAYALI</td>\n",
       "      <td>102410</td>\n",
       "      <td>518190</td>\n",
       "      <td>5.059955</td>\n",
       "    </tr>\n",
       "  </tbody>\n",
       "</table>\n",
       "</div>"
      ],
      "text/plain": [
       "     DEPARTAMENTO  SUPERFICIE  Cantidad     Densidad\n",
       "0        AMAZONAS       39249    427041    10.880303\n",
       "1          ANCASH       35914   1171756    32.626719\n",
       "2        APURIMAC       20895    466936    22.346782\n",
       "3        AREQUIPA       63345   1350676    21.322535\n",
       "4        AYACUCHO       43814    718634    16.401926\n",
       "5       CAJAMARCA       33317   1543104    46.315815\n",
       "6          CALLAO         146   1067815  7313.801370\n",
       "7           CUSCO       71986   1346373    18.703262\n",
       "8    HUANCAVELICA       22131    509117    23.004699\n",
       "9         HUANUCO       36848    889134    24.129776\n",
       "10            ICA       21327    817965    38.353496\n",
       "11          JUNIN       44197   1389850    31.446705\n",
       "12    LA LIBERTAD       25495   1956389    76.736184\n",
       "13     LAMBAYEQUE       14231   1300720    91.400464\n",
       "14           LIMA       34796  10458367   300.562335\n",
       "15         LORETO      368851   1077831     2.922131\n",
       "16  MADRE DE DIOS       85300    150181     1.760621\n",
       "17       MOQUEGUA       15733    187941    11.945656\n",
       "18          PASCO       25319    312777    12.353450\n",
       "19          PIURA       35892   1901896    52.989413\n",
       "20           PUNO       71999   1471405    20.436464\n",
       "21     SAN MARTIN       51253    884795    17.263282\n",
       "22          TACNA       51253    358314     6.991083\n",
       "23         TUMBES        4669    248877    53.304134\n",
       "24        UCAYALI      102410    518190     5.059955"
      ]
     },
     "execution_count": 10,
     "metadata": {},
     "output_type": "execute_result"
    }
   ],
   "source": [
    "densidad[\"Densidad\"]=(densidad[\"Cantidad\"]/densidad[\"SUPERFICIE\"])\n",
    "densidad"
   ]
  },
  {
   "cell_type": "markdown",
   "id": "f8167283",
   "metadata": {},
   "source": [
    "# Fallecidos covid por departamento"
   ]
  },
  {
   "cell_type": "code",
   "execution_count": 11,
   "id": "b7378831",
   "metadata": {},
   "outputs": [
    {
     "name": "stderr",
     "output_type": "stream",
     "text": [
      "C:\\Users\\elextor\\anaconda3\\envs\\rstudio\\lib\\site-packages\\IPython\\core\\interactiveshell.py:3457: DtypeWarning: Columns (8) have mixed types.Specify dtype option on import or set low_memory=False.\n",
      "  exec(code_obj, self.user_global_ns, self.user_ns)\n"
     ]
    },
    {
     "data": {
      "text/html": [
       "<div>\n",
       "<style scoped>\n",
       "    .dataframe tbody tr th:only-of-type {\n",
       "        vertical-align: middle;\n",
       "    }\n",
       "\n",
       "    .dataframe tbody tr th {\n",
       "        vertical-align: top;\n",
       "    }\n",
       "\n",
       "    .dataframe thead th {\n",
       "        text-align: right;\n",
       "    }\n",
       "</style>\n",
       "<table border=\"1\" class=\"dataframe\">\n",
       "  <thead>\n",
       "    <tr style=\"text-align: right;\">\n",
       "      <th></th>\n",
       "      <th>FECHA_CORTE</th>\n",
       "      <th>FECHA_FALLECIMIENTO</th>\n",
       "      <th>EDAD_DECLARADA</th>\n",
       "      <th>SEXO</th>\n",
       "      <th>CLASIFICACION_DEF</th>\n",
       "      <th>DEPARTAMENTO</th>\n",
       "      <th>PROVINCIA</th>\n",
       "      <th>DISTRITO</th>\n",
       "      <th>UBIGEO</th>\n",
       "      <th>UUID</th>\n",
       "    </tr>\n",
       "  </thead>\n",
       "  <tbody>\n",
       "    <tr>\n",
       "      <th>0</th>\n",
       "      <td>20230301</td>\n",
       "      <td>20210512</td>\n",
       "      <td>88.0</td>\n",
       "      <td>FEMENINO</td>\n",
       "      <td>Criterio SINADEF</td>\n",
       "      <td>AREQUIPA</td>\n",
       "      <td>AREQUIPA</td>\n",
       "      <td>PAUCARPATA</td>\n",
       "      <td>040112</td>\n",
       "      <td>13889730.0</td>\n",
       "    </tr>\n",
       "    <tr>\n",
       "      <th>1</th>\n",
       "      <td>20230301</td>\n",
       "      <td>20210624</td>\n",
       "      <td>58.0</td>\n",
       "      <td>MASCULINO</td>\n",
       "      <td>Criterio SINADEF</td>\n",
       "      <td>AREQUIPA</td>\n",
       "      <td>AREQUIPA</td>\n",
       "      <td>PAUCARPATA</td>\n",
       "      <td>040112</td>\n",
       "      <td>13889749.0</td>\n",
       "    </tr>\n",
       "    <tr>\n",
       "      <th>2</th>\n",
       "      <td>20230301</td>\n",
       "      <td>20210426</td>\n",
       "      <td>84.0</td>\n",
       "      <td>MASCULINO</td>\n",
       "      <td>Criterio serolÃ³gico</td>\n",
       "      <td>LA LIBERTAD</td>\n",
       "      <td>SANCHEZ CARRION</td>\n",
       "      <td>CHUGAY</td>\n",
       "      <td>130902</td>\n",
       "      <td>13889932.0</td>\n",
       "    </tr>\n",
       "    <tr>\n",
       "      <th>3</th>\n",
       "      <td>20230301</td>\n",
       "      <td>20210315</td>\n",
       "      <td>64.0</td>\n",
       "      <td>MASCULINO</td>\n",
       "      <td>Criterio virolÃ³gico</td>\n",
       "      <td>LA LIBERTAD</td>\n",
       "      <td>SANTIAGO DE CHUCO</td>\n",
       "      <td>CACHICADAN</td>\n",
       "      <td>131003</td>\n",
       "      <td>13889956.0</td>\n",
       "    </tr>\n",
       "    <tr>\n",
       "      <th>4</th>\n",
       "      <td>20230301</td>\n",
       "      <td>20210504</td>\n",
       "      <td>62.0</td>\n",
       "      <td>MASCULINO</td>\n",
       "      <td>Criterio SINADEF</td>\n",
       "      <td>LIMA</td>\n",
       "      <td>HUARAL</td>\n",
       "      <td>CHANCAY</td>\n",
       "      <td>150605</td>\n",
       "      <td>13890034.0</td>\n",
       "    </tr>\n",
       "  </tbody>\n",
       "</table>\n",
       "</div>"
      ],
      "text/plain": [
       "   FECHA_CORTE  FECHA_FALLECIMIENTO  EDAD_DECLARADA       SEXO  \\\n",
       "0     20230301             20210512            88.0   FEMENINO   \n",
       "1     20230301             20210624            58.0  MASCULINO   \n",
       "2     20230301             20210426            84.0  MASCULINO   \n",
       "3     20230301             20210315            64.0  MASCULINO   \n",
       "4     20230301             20210504            62.0  MASCULINO   \n",
       "\n",
       "      CLASIFICACION_DEF DEPARTAMENTO          PROVINCIA    DISTRITO  UBIGEO  \\\n",
       "0      Criterio SINADEF     AREQUIPA           AREQUIPA  PAUCARPATA  040112   \n",
       "1      Criterio SINADEF     AREQUIPA           AREQUIPA  PAUCARPATA  040112   \n",
       "2  Criterio serolÃ³gico  LA LIBERTAD    SANCHEZ CARRION      CHUGAY  130902   \n",
       "3  Criterio virolÃ³gico  LA LIBERTAD  SANTIAGO DE CHUCO  CACHICADAN  131003   \n",
       "4      Criterio SINADEF         LIMA             HUARAL     CHANCAY  150605   \n",
       "\n",
       "         UUID  \n",
       "0  13889730.0  \n",
       "1  13889749.0  \n",
       "2  13889932.0  \n",
       "3  13889956.0  \n",
       "4  13890034.0  "
      ]
     },
     "execution_count": 11,
     "metadata": {},
     "output_type": "execute_result"
    }
   ],
   "source": [
    "path2=\"C:/Users/elextor/Documents/data/fallecidos_covid.csv\"\n",
    "df_covid2 = pd.read_csv(path2, sep=\";\")\n",
    "df_covid2.head()"
   ]
  },
  {
   "cell_type": "code",
   "execution_count": 12,
   "id": "a97374f5",
   "metadata": {},
   "outputs": [],
   "source": [
    "df_covid2['FECHA_CORTE']=df_covid2['FECHA_CORTE'].astype(str)\n",
    "df_covid2['FECHA_CORTE']=pd.to_datetime(df_covid2['FECHA_CORTE']) # fecha de corte "
   ]
  },
  {
   "cell_type": "code",
   "execution_count": 13,
   "id": "b4c301b9",
   "metadata": {},
   "outputs": [],
   "source": [
    "df_covid2['FECHA_FALLECIMIENTO']=df_covid2['FECHA_FALLECIMIENTO'].astype(str)\n",
    "df_covid2['FECHA_FALLECIMIENTO']=pd.to_datetime(df_covid2['FECHA_FALLECIMIENTO']) # fecha fallecidos"
   ]
  },
  {
   "cell_type": "code",
   "execution_count": 14,
   "id": "ceda651b",
   "metadata": {},
   "outputs": [
    {
     "data": {
      "text/plain": [
       "66.34936256686441"
      ]
     },
     "execution_count": 14,
     "metadata": {},
     "output_type": "execute_result"
    }
   ],
   "source": [
    "media_edad=df_covid2['EDAD_DECLARADA'].mean() # scar la media de la edad declarada para completar\n",
    "media_edad"
   ]
  },
  {
   "cell_type": "code",
   "execution_count": 15,
   "id": "1e20e60d",
   "metadata": {},
   "outputs": [
    {
     "data": {
      "text/html": [
       "<div>\n",
       "<style scoped>\n",
       "    .dataframe tbody tr th:only-of-type {\n",
       "        vertical-align: middle;\n",
       "    }\n",
       "\n",
       "    .dataframe tbody tr th {\n",
       "        vertical-align: top;\n",
       "    }\n",
       "\n",
       "    .dataframe thead th {\n",
       "        text-align: right;\n",
       "    }\n",
       "</style>\n",
       "<table border=\"1\" class=\"dataframe\">\n",
       "  <thead>\n",
       "    <tr style=\"text-align: right;\">\n",
       "      <th></th>\n",
       "      <th>EDAD_DECLARADA</th>\n",
       "    </tr>\n",
       "  </thead>\n",
       "  <tbody>\n",
       "    <tr>\n",
       "      <th>114.0</th>\n",
       "      <td>1</td>\n",
       "    </tr>\n",
       "    <tr>\n",
       "      <th>109.0</th>\n",
       "      <td>2</td>\n",
       "    </tr>\n",
       "    <tr>\n",
       "      <th>110.0</th>\n",
       "      <td>2</td>\n",
       "    </tr>\n",
       "    <tr>\n",
       "      <th>113.0</th>\n",
       "      <td>2</td>\n",
       "    </tr>\n",
       "    <tr>\n",
       "      <th>107.0</th>\n",
       "      <td>5</td>\n",
       "    </tr>\n",
       "    <tr>\n",
       "      <th>...</th>\n",
       "      <td>...</td>\n",
       "    </tr>\n",
       "    <tr>\n",
       "      <th>70.0</th>\n",
       "      <td>5554</td>\n",
       "    </tr>\n",
       "    <tr>\n",
       "      <th>68.0</th>\n",
       "      <td>5636</td>\n",
       "    </tr>\n",
       "    <tr>\n",
       "      <th>65.0</th>\n",
       "      <td>5676</td>\n",
       "    </tr>\n",
       "    <tr>\n",
       "      <th>67.0</th>\n",
       "      <td>5678</td>\n",
       "    </tr>\n",
       "    <tr>\n",
       "      <th>66.0</th>\n",
       "      <td>5729</td>\n",
       "    </tr>\n",
       "  </tbody>\n",
       "</table>\n",
       "<p>113 rows × 1 columns</p>\n",
       "</div>"
      ],
      "text/plain": [
       "       EDAD_DECLARADA\n",
       "114.0               1\n",
       "109.0               2\n",
       "110.0               2\n",
       "113.0               2\n",
       "107.0               5\n",
       "...               ...\n",
       "70.0             5554\n",
       "68.0             5636\n",
       "65.0             5676\n",
       "67.0             5678\n",
       "66.0             5729\n",
       "\n",
       "[113 rows x 1 columns]"
      ]
     },
     "execution_count": 15,
     "metadata": {},
     "output_type": "execute_result"
    }
   ],
   "source": [
    "count = pd.DataFrame(df_covid2['EDAD_DECLARADA'].value_counts().sort_values())\n",
    "count"
   ]
  },
  {
   "cell_type": "code",
   "execution_count": 16,
   "id": "70527311",
   "metadata": {},
   "outputs": [],
   "source": [
    "df_covid2['EDAD_DECLARADA'].fillna(media_edad, inplace=True)"
   ]
  },
  {
   "cell_type": "code",
   "execution_count": 17,
   "id": "e3bad5cb",
   "metadata": {},
   "outputs": [
    {
     "data": {
      "text/html": [
       "<div>\n",
       "<style scoped>\n",
       "    .dataframe tbody tr th:only-of-type {\n",
       "        vertical-align: middle;\n",
       "    }\n",
       "\n",
       "    .dataframe tbody tr th {\n",
       "        vertical-align: top;\n",
       "    }\n",
       "\n",
       "    .dataframe thead th {\n",
       "        text-align: right;\n",
       "    }\n",
       "</style>\n",
       "<table border=\"1\" class=\"dataframe\">\n",
       "  <thead>\n",
       "    <tr style=\"text-align: right;\">\n",
       "      <th></th>\n",
       "      <th>FECHA_CORTE</th>\n",
       "      <th>FECHA_FALLECIMIENTO</th>\n",
       "      <th>EDAD_DECLARADA</th>\n",
       "      <th>SEXO</th>\n",
       "      <th>CLASIFICACION_DEF</th>\n",
       "      <th>DEPARTAMENTO</th>\n",
       "      <th>PROVINCIA</th>\n",
       "      <th>DISTRITO</th>\n",
       "      <th>UBIGEO</th>\n",
       "      <th>UUID</th>\n",
       "    </tr>\n",
       "  </thead>\n",
       "  <tbody>\n",
       "    <tr>\n",
       "      <th>0</th>\n",
       "      <td>2023-03-01</td>\n",
       "      <td>2021-05-12</td>\n",
       "      <td>88</td>\n",
       "      <td>FEMENINO</td>\n",
       "      <td>Criterio SINADEF</td>\n",
       "      <td>AREQUIPA</td>\n",
       "      <td>AREQUIPA</td>\n",
       "      <td>PAUCARPATA</td>\n",
       "      <td>040112</td>\n",
       "      <td>13889730.0</td>\n",
       "    </tr>\n",
       "    <tr>\n",
       "      <th>1</th>\n",
       "      <td>2023-03-01</td>\n",
       "      <td>2021-06-24</td>\n",
       "      <td>58</td>\n",
       "      <td>MASCULINO</td>\n",
       "      <td>Criterio SINADEF</td>\n",
       "      <td>AREQUIPA</td>\n",
       "      <td>AREQUIPA</td>\n",
       "      <td>PAUCARPATA</td>\n",
       "      <td>040112</td>\n",
       "      <td>13889749.0</td>\n",
       "    </tr>\n",
       "    <tr>\n",
       "      <th>2</th>\n",
       "      <td>2023-03-01</td>\n",
       "      <td>2021-04-26</td>\n",
       "      <td>84</td>\n",
       "      <td>MASCULINO</td>\n",
       "      <td>Criterio serolÃ³gico</td>\n",
       "      <td>LA LIBERTAD</td>\n",
       "      <td>SANCHEZ CARRION</td>\n",
       "      <td>CHUGAY</td>\n",
       "      <td>130902</td>\n",
       "      <td>13889932.0</td>\n",
       "    </tr>\n",
       "    <tr>\n",
       "      <th>3</th>\n",
       "      <td>2023-03-01</td>\n",
       "      <td>2021-03-15</td>\n",
       "      <td>64</td>\n",
       "      <td>MASCULINO</td>\n",
       "      <td>Criterio virolÃ³gico</td>\n",
       "      <td>LA LIBERTAD</td>\n",
       "      <td>SANTIAGO DE CHUCO</td>\n",
       "      <td>CACHICADAN</td>\n",
       "      <td>131003</td>\n",
       "      <td>13889956.0</td>\n",
       "    </tr>\n",
       "    <tr>\n",
       "      <th>4</th>\n",
       "      <td>2023-03-01</td>\n",
       "      <td>2021-05-04</td>\n",
       "      <td>62</td>\n",
       "      <td>MASCULINO</td>\n",
       "      <td>Criterio SINADEF</td>\n",
       "      <td>LIMA</td>\n",
       "      <td>HUARAL</td>\n",
       "      <td>CHANCAY</td>\n",
       "      <td>150605</td>\n",
       "      <td>13890034.0</td>\n",
       "    </tr>\n",
       "    <tr>\n",
       "      <th>...</th>\n",
       "      <td>...</td>\n",
       "      <td>...</td>\n",
       "      <td>...</td>\n",
       "      <td>...</td>\n",
       "      <td>...</td>\n",
       "      <td>...</td>\n",
       "      <td>...</td>\n",
       "      <td>...</td>\n",
       "      <td>...</td>\n",
       "      <td>...</td>\n",
       "    </tr>\n",
       "    <tr>\n",
       "      <th>219473</th>\n",
       "      <td>2023-03-01</td>\n",
       "      <td>2021-04-07</td>\n",
       "      <td>70</td>\n",
       "      <td>FEMENINO</td>\n",
       "      <td>Criterio clÃ­nico</td>\n",
       "      <td>LIMA</td>\n",
       "      <td>LIMA</td>\n",
       "      <td>COMAS</td>\n",
       "      <td>150110</td>\n",
       "      <td>NaN</td>\n",
       "    </tr>\n",
       "    <tr>\n",
       "      <th>219474</th>\n",
       "      <td>2023-03-01</td>\n",
       "      <td>2021-01-12</td>\n",
       "      <td>69</td>\n",
       "      <td>FEMENINO</td>\n",
       "      <td>Criterio nexo epidemiolÃ³gico</td>\n",
       "      <td>LAMBAYEQUE</td>\n",
       "      <td>CHICLAYO</td>\n",
       "      <td>CHICLAYO</td>\n",
       "      <td>140101</td>\n",
       "      <td>NaN</td>\n",
       "    </tr>\n",
       "    <tr>\n",
       "      <th>219475</th>\n",
       "      <td>2023-03-01</td>\n",
       "      <td>2020-07-24</td>\n",
       "      <td>62</td>\n",
       "      <td>FEMENINO</td>\n",
       "      <td>Criterio clÃ­nico</td>\n",
       "      <td>CALLAO</td>\n",
       "      <td>CALLAO</td>\n",
       "      <td>MI PERU</td>\n",
       "      <td>070107</td>\n",
       "      <td>NaN</td>\n",
       "    </tr>\n",
       "    <tr>\n",
       "      <th>219476</th>\n",
       "      <td>2023-03-01</td>\n",
       "      <td>2021-02-02</td>\n",
       "      <td>55</td>\n",
       "      <td>MASCULINO</td>\n",
       "      <td>Criterio clÃ­nico</td>\n",
       "      <td>LIMA</td>\n",
       "      <td>LIMA</td>\n",
       "      <td>CHORRILLOS</td>\n",
       "      <td>150108</td>\n",
       "      <td>NaN</td>\n",
       "    </tr>\n",
       "    <tr>\n",
       "      <th>219477</th>\n",
       "      <td>2023-03-01</td>\n",
       "      <td>2021-03-28</td>\n",
       "      <td>73</td>\n",
       "      <td>MASCULINO</td>\n",
       "      <td>Criterio virolÃ³gico</td>\n",
       "      <td>LORETO</td>\n",
       "      <td>UCAYALI</td>\n",
       "      <td>VARGAS GUERRA</td>\n",
       "      <td>160606</td>\n",
       "      <td>NaN</td>\n",
       "    </tr>\n",
       "  </tbody>\n",
       "</table>\n",
       "<p>219478 rows × 10 columns</p>\n",
       "</div>"
      ],
      "text/plain": [
       "       FECHA_CORTE FECHA_FALLECIMIENTO  EDAD_DECLARADA       SEXO  \\\n",
       "0       2023-03-01          2021-05-12              88   FEMENINO   \n",
       "1       2023-03-01          2021-06-24              58  MASCULINO   \n",
       "2       2023-03-01          2021-04-26              84  MASCULINO   \n",
       "3       2023-03-01          2021-03-15              64  MASCULINO   \n",
       "4       2023-03-01          2021-05-04              62  MASCULINO   \n",
       "...            ...                 ...             ...        ...   \n",
       "219473  2023-03-01          2021-04-07              70   FEMENINO   \n",
       "219474  2023-03-01          2021-01-12              69   FEMENINO   \n",
       "219475  2023-03-01          2020-07-24              62   FEMENINO   \n",
       "219476  2023-03-01          2021-02-02              55  MASCULINO   \n",
       "219477  2023-03-01          2021-03-28              73  MASCULINO   \n",
       "\n",
       "                    CLASIFICACION_DEF DEPARTAMENTO          PROVINCIA  \\\n",
       "0                    Criterio SINADEF     AREQUIPA           AREQUIPA   \n",
       "1                    Criterio SINADEF     AREQUIPA           AREQUIPA   \n",
       "2                Criterio serolÃ³gico  LA LIBERTAD    SANCHEZ CARRION   \n",
       "3                Criterio virolÃ³gico  LA LIBERTAD  SANTIAGO DE CHUCO   \n",
       "4                    Criterio SINADEF         LIMA             HUARAL   \n",
       "...                               ...          ...                ...   \n",
       "219473              Criterio clÃ­nico         LIMA               LIMA   \n",
       "219474  Criterio nexo epidemiolÃ³gico   LAMBAYEQUE           CHICLAYO   \n",
       "219475              Criterio clÃ­nico       CALLAO             CALLAO   \n",
       "219476              Criterio clÃ­nico         LIMA               LIMA   \n",
       "219477           Criterio virolÃ³gico       LORETO            UCAYALI   \n",
       "\n",
       "             DISTRITO  UBIGEO        UUID  \n",
       "0          PAUCARPATA  040112  13889730.0  \n",
       "1          PAUCARPATA  040112  13889749.0  \n",
       "2              CHUGAY  130902  13889932.0  \n",
       "3          CACHICADAN  131003  13889956.0  \n",
       "4             CHANCAY  150605  13890034.0  \n",
       "...               ...     ...         ...  \n",
       "219473          COMAS  150110         NaN  \n",
       "219474       CHICLAYO  140101         NaN  \n",
       "219475        MI PERU  070107         NaN  \n",
       "219476     CHORRILLOS  150108         NaN  \n",
       "219477  VARGAS GUERRA  160606         NaN  \n",
       "\n",
       "[219478 rows x 10 columns]"
      ]
     },
     "execution_count": 17,
     "metadata": {},
     "output_type": "execute_result"
    }
   ],
   "source": [
    "df_covid2['EDAD_DECLARADA']=df_covid2['EDAD_DECLARADA'].astype(int) \n",
    "df_covid2  # la edad no es significativa para este analisis "
   ]
  },
  {
   "cell_type": "code",
   "execution_count": 18,
   "id": "1ee117a9",
   "metadata": {},
   "outputs": [],
   "source": [
    "df_covid2['Fallecidos']=1"
   ]
  },
  {
   "cell_type": "markdown",
   "id": "aa3292f6",
   "metadata": {},
   "source": [
    "# Fallecidos por departamento"
   ]
  },
  {
   "cell_type": "code",
   "execution_count": 19,
   "id": "59151952",
   "metadata": {},
   "outputs": [
    {
     "data": {
      "text/html": [
       "<div>\n",
       "<style scoped>\n",
       "    .dataframe tbody tr th:only-of-type {\n",
       "        vertical-align: middle;\n",
       "    }\n",
       "\n",
       "    .dataframe tbody tr th {\n",
       "        vertical-align: top;\n",
       "    }\n",
       "\n",
       "    .dataframe thead th {\n",
       "        text-align: right;\n",
       "    }\n",
       "</style>\n",
       "<table border=\"1\" class=\"dataframe\">\n",
       "  <thead>\n",
       "    <tr style=\"text-align: right;\">\n",
       "      <th></th>\n",
       "      <th>DEPARTAMENTO</th>\n",
       "      <th>Fallecidos</th>\n",
       "    </tr>\n",
       "  </thead>\n",
       "  <tbody>\n",
       "    <tr>\n",
       "      <th>0</th>\n",
       "      <td>MADRE DE DIOS</td>\n",
       "      <td>888</td>\n",
       "    </tr>\n",
       "    <tr>\n",
       "      <th>1</th>\n",
       "      <td>PASCO</td>\n",
       "      <td>1141</td>\n",
       "    </tr>\n",
       "    <tr>\n",
       "      <th>2</th>\n",
       "      <td>HUANCAVELICA</td>\n",
       "      <td>1300</td>\n",
       "    </tr>\n",
       "    <tr>\n",
       "      <th>3</th>\n",
       "      <td>AMAZONAS</td>\n",
       "      <td>1409</td>\n",
       "    </tr>\n",
       "    <tr>\n",
       "      <th>4</th>\n",
       "      <td>APURIMAC</td>\n",
       "      <td>1694</td>\n",
       "    </tr>\n",
       "    <tr>\n",
       "      <th>5</th>\n",
       "      <td>MOQUEGUA</td>\n",
       "      <td>1717</td>\n",
       "    </tr>\n",
       "    <tr>\n",
       "      <th>6</th>\n",
       "      <td>TUMBES</td>\n",
       "      <td>1754</td>\n",
       "    </tr>\n",
       "    <tr>\n",
       "      <th>7</th>\n",
       "      <td>TACNA</td>\n",
       "      <td>2261</td>\n",
       "    </tr>\n",
       "    <tr>\n",
       "      <th>8</th>\n",
       "      <td>AYACUCHO</td>\n",
       "      <td>2407</td>\n",
       "    </tr>\n",
       "    <tr>\n",
       "      <th>9</th>\n",
       "      <td>HUANUCO</td>\n",
       "      <td>2980</td>\n",
       "    </tr>\n",
       "    <tr>\n",
       "      <th>10</th>\n",
       "      <td>SAN MARTIN</td>\n",
       "      <td>3242</td>\n",
       "    </tr>\n",
       "    <tr>\n",
       "      <th>11</th>\n",
       "      <td>UCAYALI</td>\n",
       "      <td>3299</td>\n",
       "    </tr>\n",
       "    <tr>\n",
       "      <th>12</th>\n",
       "      <td>LORETO</td>\n",
       "      <td>4474</td>\n",
       "    </tr>\n",
       "    <tr>\n",
       "      <th>13</th>\n",
       "      <td>CAJAMARCA</td>\n",
       "      <td>4608</td>\n",
       "    </tr>\n",
       "    <tr>\n",
       "      <th>14</th>\n",
       "      <td>PUNO</td>\n",
       "      <td>4844</td>\n",
       "    </tr>\n",
       "    <tr>\n",
       "      <th>15</th>\n",
       "      <td>CUSCO</td>\n",
       "      <td>5291</td>\n",
       "    </tr>\n",
       "    <tr>\n",
       "      <th>16</th>\n",
       "      <td>ANCASH</td>\n",
       "      <td>7391</td>\n",
       "    </tr>\n",
       "    <tr>\n",
       "      <th>17</th>\n",
       "      <td>JUNIN</td>\n",
       "      <td>7621</td>\n",
       "    </tr>\n",
       "    <tr>\n",
       "      <th>18</th>\n",
       "      <td>ICA</td>\n",
       "      <td>9116</td>\n",
       "    </tr>\n",
       "    <tr>\n",
       "      <th>19</th>\n",
       "      <td>LAMBAYEQUE</td>\n",
       "      <td>9488</td>\n",
       "    </tr>\n",
       "    <tr>\n",
       "      <th>20</th>\n",
       "      <td>AREQUIPA</td>\n",
       "      <td>10602</td>\n",
       "    </tr>\n",
       "    <tr>\n",
       "      <th>21</th>\n",
       "      <td>CALLAO</td>\n",
       "      <td>10891</td>\n",
       "    </tr>\n",
       "    <tr>\n",
       "      <th>22</th>\n",
       "      <td>LA LIBERTAD</td>\n",
       "      <td>11031</td>\n",
       "    </tr>\n",
       "    <tr>\n",
       "      <th>23</th>\n",
       "      <td>PIURA</td>\n",
       "      <td>13230</td>\n",
       "    </tr>\n",
       "    <tr>\n",
       "      <th>24</th>\n",
       "      <td>LIMA</td>\n",
       "      <td>96799</td>\n",
       "    </tr>\n",
       "  </tbody>\n",
       "</table>\n",
       "</div>"
      ],
      "text/plain": [
       "     DEPARTAMENTO  Fallecidos\n",
       "0   MADRE DE DIOS         888\n",
       "1           PASCO        1141\n",
       "2    HUANCAVELICA        1300\n",
       "3        AMAZONAS        1409\n",
       "4        APURIMAC        1694\n",
       "5        MOQUEGUA        1717\n",
       "6          TUMBES        1754\n",
       "7           TACNA        2261\n",
       "8        AYACUCHO        2407\n",
       "9         HUANUCO        2980\n",
       "10     SAN MARTIN        3242\n",
       "11        UCAYALI        3299\n",
       "12         LORETO        4474\n",
       "13      CAJAMARCA        4608\n",
       "14           PUNO        4844\n",
       "15          CUSCO        5291\n",
       "16         ANCASH        7391\n",
       "17          JUNIN        7621\n",
       "18            ICA        9116\n",
       "19     LAMBAYEQUE        9488\n",
       "20       AREQUIPA       10602\n",
       "21         CALLAO       10891\n",
       "22    LA LIBERTAD       11031\n",
       "23          PIURA       13230\n",
       "24           LIMA       96799"
      ]
     },
     "execution_count": 19,
     "metadata": {},
     "output_type": "execute_result"
    }
   ],
   "source": [
    "count_departamento_edad=df_covid2.groupby('DEPARTAMENTO')['Fallecidos'].count().round(2).sort_values()\n",
    "count_departamento_edad=pd.DataFrame(count_departamento_edad)\n",
    "count_departamento_edad=count_departamento_edad.reset_index()\n",
    "count_departamento_edad"
   ]
  },
  {
   "cell_type": "markdown",
   "id": "097c14cb",
   "metadata": {},
   "source": [
    "# JOIN muertes covid por Densidad"
   ]
  },
  {
   "cell_type": "code",
   "execution_count": 20,
   "id": "cdab49cc",
   "metadata": {},
   "outputs": [
    {
     "data": {
      "text/html": [
       "<div>\n",
       "<style scoped>\n",
       "    .dataframe tbody tr th:only-of-type {\n",
       "        vertical-align: middle;\n",
       "    }\n",
       "\n",
       "    .dataframe tbody tr th {\n",
       "        vertical-align: top;\n",
       "    }\n",
       "\n",
       "    .dataframe thead th {\n",
       "        text-align: right;\n",
       "    }\n",
       "</style>\n",
       "<table border=\"1\" class=\"dataframe\">\n",
       "  <thead>\n",
       "    <tr style=\"text-align: right;\">\n",
       "      <th></th>\n",
       "      <th>DEPARTAMENTO</th>\n",
       "      <th>SUPERFICIE</th>\n",
       "      <th>Cantidad</th>\n",
       "      <th>Densidad</th>\n",
       "      <th>Fallecidos</th>\n",
       "    </tr>\n",
       "  </thead>\n",
       "  <tbody>\n",
       "    <tr>\n",
       "      <th>0</th>\n",
       "      <td>AMAZONAS</td>\n",
       "      <td>39249</td>\n",
       "      <td>427041</td>\n",
       "      <td>10.880303</td>\n",
       "      <td>1409</td>\n",
       "    </tr>\n",
       "    <tr>\n",
       "      <th>1</th>\n",
       "      <td>ANCASH</td>\n",
       "      <td>35914</td>\n",
       "      <td>1171756</td>\n",
       "      <td>32.626719</td>\n",
       "      <td>7391</td>\n",
       "    </tr>\n",
       "    <tr>\n",
       "      <th>2</th>\n",
       "      <td>APURIMAC</td>\n",
       "      <td>20895</td>\n",
       "      <td>466936</td>\n",
       "      <td>22.346782</td>\n",
       "      <td>1694</td>\n",
       "    </tr>\n",
       "    <tr>\n",
       "      <th>3</th>\n",
       "      <td>AREQUIPA</td>\n",
       "      <td>63345</td>\n",
       "      <td>1350676</td>\n",
       "      <td>21.322535</td>\n",
       "      <td>10602</td>\n",
       "    </tr>\n",
       "    <tr>\n",
       "      <th>4</th>\n",
       "      <td>AYACUCHO</td>\n",
       "      <td>43814</td>\n",
       "      <td>718634</td>\n",
       "      <td>16.401926</td>\n",
       "      <td>2407</td>\n",
       "    </tr>\n",
       "    <tr>\n",
       "      <th>5</th>\n",
       "      <td>CAJAMARCA</td>\n",
       "      <td>33317</td>\n",
       "      <td>1543104</td>\n",
       "      <td>46.315815</td>\n",
       "      <td>4608</td>\n",
       "    </tr>\n",
       "    <tr>\n",
       "      <th>6</th>\n",
       "      <td>CALLAO</td>\n",
       "      <td>146</td>\n",
       "      <td>1067815</td>\n",
       "      <td>7313.801370</td>\n",
       "      <td>10891</td>\n",
       "    </tr>\n",
       "    <tr>\n",
       "      <th>7</th>\n",
       "      <td>CUSCO</td>\n",
       "      <td>71986</td>\n",
       "      <td>1346373</td>\n",
       "      <td>18.703262</td>\n",
       "      <td>5291</td>\n",
       "    </tr>\n",
       "    <tr>\n",
       "      <th>8</th>\n",
       "      <td>HUANCAVELICA</td>\n",
       "      <td>22131</td>\n",
       "      <td>509117</td>\n",
       "      <td>23.004699</td>\n",
       "      <td>1300</td>\n",
       "    </tr>\n",
       "    <tr>\n",
       "      <th>9</th>\n",
       "      <td>HUANUCO</td>\n",
       "      <td>36848</td>\n",
       "      <td>889134</td>\n",
       "      <td>24.129776</td>\n",
       "      <td>2980</td>\n",
       "    </tr>\n",
       "    <tr>\n",
       "      <th>10</th>\n",
       "      <td>ICA</td>\n",
       "      <td>21327</td>\n",
       "      <td>817965</td>\n",
       "      <td>38.353496</td>\n",
       "      <td>9116</td>\n",
       "    </tr>\n",
       "    <tr>\n",
       "      <th>11</th>\n",
       "      <td>JUNIN</td>\n",
       "      <td>44197</td>\n",
       "      <td>1389850</td>\n",
       "      <td>31.446705</td>\n",
       "      <td>7621</td>\n",
       "    </tr>\n",
       "    <tr>\n",
       "      <th>12</th>\n",
       "      <td>LA LIBERTAD</td>\n",
       "      <td>25495</td>\n",
       "      <td>1956389</td>\n",
       "      <td>76.736184</td>\n",
       "      <td>11031</td>\n",
       "    </tr>\n",
       "    <tr>\n",
       "      <th>13</th>\n",
       "      <td>LAMBAYEQUE</td>\n",
       "      <td>14231</td>\n",
       "      <td>1300720</td>\n",
       "      <td>91.400464</td>\n",
       "      <td>9488</td>\n",
       "    </tr>\n",
       "    <tr>\n",
       "      <th>14</th>\n",
       "      <td>LIMA</td>\n",
       "      <td>34796</td>\n",
       "      <td>10458367</td>\n",
       "      <td>300.562335</td>\n",
       "      <td>96799</td>\n",
       "    </tr>\n",
       "    <tr>\n",
       "      <th>15</th>\n",
       "      <td>LORETO</td>\n",
       "      <td>368851</td>\n",
       "      <td>1077831</td>\n",
       "      <td>2.922131</td>\n",
       "      <td>4474</td>\n",
       "    </tr>\n",
       "    <tr>\n",
       "      <th>16</th>\n",
       "      <td>MADRE DE DIOS</td>\n",
       "      <td>85300</td>\n",
       "      <td>150181</td>\n",
       "      <td>1.760621</td>\n",
       "      <td>888</td>\n",
       "    </tr>\n",
       "    <tr>\n",
       "      <th>17</th>\n",
       "      <td>MOQUEGUA</td>\n",
       "      <td>15733</td>\n",
       "      <td>187941</td>\n",
       "      <td>11.945656</td>\n",
       "      <td>1717</td>\n",
       "    </tr>\n",
       "    <tr>\n",
       "      <th>18</th>\n",
       "      <td>PASCO</td>\n",
       "      <td>25319</td>\n",
       "      <td>312777</td>\n",
       "      <td>12.353450</td>\n",
       "      <td>1141</td>\n",
       "    </tr>\n",
       "    <tr>\n",
       "      <th>19</th>\n",
       "      <td>PIURA</td>\n",
       "      <td>35892</td>\n",
       "      <td>1901896</td>\n",
       "      <td>52.989413</td>\n",
       "      <td>13230</td>\n",
       "    </tr>\n",
       "    <tr>\n",
       "      <th>20</th>\n",
       "      <td>PUNO</td>\n",
       "      <td>71999</td>\n",
       "      <td>1471405</td>\n",
       "      <td>20.436464</td>\n",
       "      <td>4844</td>\n",
       "    </tr>\n",
       "    <tr>\n",
       "      <th>21</th>\n",
       "      <td>SAN MARTIN</td>\n",
       "      <td>51253</td>\n",
       "      <td>884795</td>\n",
       "      <td>17.263282</td>\n",
       "      <td>3242</td>\n",
       "    </tr>\n",
       "    <tr>\n",
       "      <th>22</th>\n",
       "      <td>TACNA</td>\n",
       "      <td>51253</td>\n",
       "      <td>358314</td>\n",
       "      <td>6.991083</td>\n",
       "      <td>2261</td>\n",
       "    </tr>\n",
       "    <tr>\n",
       "      <th>23</th>\n",
       "      <td>TUMBES</td>\n",
       "      <td>4669</td>\n",
       "      <td>248877</td>\n",
       "      <td>53.304134</td>\n",
       "      <td>1754</td>\n",
       "    </tr>\n",
       "    <tr>\n",
       "      <th>24</th>\n",
       "      <td>UCAYALI</td>\n",
       "      <td>102410</td>\n",
       "      <td>518190</td>\n",
       "      <td>5.059955</td>\n",
       "      <td>3299</td>\n",
       "    </tr>\n",
       "  </tbody>\n",
       "</table>\n",
       "</div>"
      ],
      "text/plain": [
       "     DEPARTAMENTO  SUPERFICIE  Cantidad     Densidad  Fallecidos\n",
       "0        AMAZONAS       39249    427041    10.880303        1409\n",
       "1          ANCASH       35914   1171756    32.626719        7391\n",
       "2        APURIMAC       20895    466936    22.346782        1694\n",
       "3        AREQUIPA       63345   1350676    21.322535       10602\n",
       "4        AYACUCHO       43814    718634    16.401926        2407\n",
       "5       CAJAMARCA       33317   1543104    46.315815        4608\n",
       "6          CALLAO         146   1067815  7313.801370       10891\n",
       "7           CUSCO       71986   1346373    18.703262        5291\n",
       "8    HUANCAVELICA       22131    509117    23.004699        1300\n",
       "9         HUANUCO       36848    889134    24.129776        2980\n",
       "10            ICA       21327    817965    38.353496        9116\n",
       "11          JUNIN       44197   1389850    31.446705        7621\n",
       "12    LA LIBERTAD       25495   1956389    76.736184       11031\n",
       "13     LAMBAYEQUE       14231   1300720    91.400464        9488\n",
       "14           LIMA       34796  10458367   300.562335       96799\n",
       "15         LORETO      368851   1077831     2.922131        4474\n",
       "16  MADRE DE DIOS       85300    150181     1.760621         888\n",
       "17       MOQUEGUA       15733    187941    11.945656        1717\n",
       "18          PASCO       25319    312777    12.353450        1141\n",
       "19          PIURA       35892   1901896    52.989413       13230\n",
       "20           PUNO       71999   1471405    20.436464        4844\n",
       "21     SAN MARTIN       51253    884795    17.263282        3242\n",
       "22          TACNA       51253    358314     6.991083        2261\n",
       "23         TUMBES        4669    248877    53.304134        1754\n",
       "24        UCAYALI      102410    518190     5.059955        3299"
      ]
     },
     "execution_count": 20,
     "metadata": {},
     "output_type": "execute_result"
    }
   ],
   "source": [
    "muertes_densidad=pd.merge(densidad,count_departamento_edad,on='DEPARTAMENTO')\n",
    "muertes_densidad"
   ]
  },
  {
   "cell_type": "code",
   "execution_count": 21,
   "id": "de94152c",
   "metadata": {},
   "outputs": [
    {
     "data": {
      "text/html": [
       "<div>\n",
       "<style scoped>\n",
       "    .dataframe tbody tr th:only-of-type {\n",
       "        vertical-align: middle;\n",
       "    }\n",
       "\n",
       "    .dataframe tbody tr th {\n",
       "        vertical-align: top;\n",
       "    }\n",
       "\n",
       "    .dataframe thead th {\n",
       "        text-align: right;\n",
       "    }\n",
       "</style>\n",
       "<table border=\"1\" class=\"dataframe\">\n",
       "  <thead>\n",
       "    <tr style=\"text-align: right;\">\n",
       "      <th></th>\n",
       "      <th>DEPARTAMENTO</th>\n",
       "      <th>SUPERFICIE</th>\n",
       "      <th>Cantidad</th>\n",
       "      <th>Densidad</th>\n",
       "      <th>Fallecidos</th>\n",
       "    </tr>\n",
       "  </thead>\n",
       "  <tbody>\n",
       "    <tr>\n",
       "      <th>0</th>\n",
       "      <td>AMAZONAS</td>\n",
       "      <td>39249</td>\n",
       "      <td>427041</td>\n",
       "      <td>10.9</td>\n",
       "      <td>1409</td>\n",
       "    </tr>\n",
       "    <tr>\n",
       "      <th>1</th>\n",
       "      <td>ANCASH</td>\n",
       "      <td>35914</td>\n",
       "      <td>1171756</td>\n",
       "      <td>32.6</td>\n",
       "      <td>7391</td>\n",
       "    </tr>\n",
       "    <tr>\n",
       "      <th>2</th>\n",
       "      <td>APURIMAC</td>\n",
       "      <td>20895</td>\n",
       "      <td>466936</td>\n",
       "      <td>22.3</td>\n",
       "      <td>1694</td>\n",
       "    </tr>\n",
       "    <tr>\n",
       "      <th>3</th>\n",
       "      <td>AREQUIPA</td>\n",
       "      <td>63345</td>\n",
       "      <td>1350676</td>\n",
       "      <td>21.3</td>\n",
       "      <td>10602</td>\n",
       "    </tr>\n",
       "    <tr>\n",
       "      <th>4</th>\n",
       "      <td>AYACUCHO</td>\n",
       "      <td>43814</td>\n",
       "      <td>718634</td>\n",
       "      <td>16.4</td>\n",
       "      <td>2407</td>\n",
       "    </tr>\n",
       "    <tr>\n",
       "      <th>5</th>\n",
       "      <td>CAJAMARCA</td>\n",
       "      <td>33317</td>\n",
       "      <td>1543104</td>\n",
       "      <td>46.3</td>\n",
       "      <td>4608</td>\n",
       "    </tr>\n",
       "    <tr>\n",
       "      <th>6</th>\n",
       "      <td>CALLAO</td>\n",
       "      <td>146</td>\n",
       "      <td>1067815</td>\n",
       "      <td>7313.8</td>\n",
       "      <td>10891</td>\n",
       "    </tr>\n",
       "    <tr>\n",
       "      <th>7</th>\n",
       "      <td>CUSCO</td>\n",
       "      <td>71986</td>\n",
       "      <td>1346373</td>\n",
       "      <td>18.7</td>\n",
       "      <td>5291</td>\n",
       "    </tr>\n",
       "    <tr>\n",
       "      <th>8</th>\n",
       "      <td>HUANCAVELICA</td>\n",
       "      <td>22131</td>\n",
       "      <td>509117</td>\n",
       "      <td>23.0</td>\n",
       "      <td>1300</td>\n",
       "    </tr>\n",
       "    <tr>\n",
       "      <th>9</th>\n",
       "      <td>HUANUCO</td>\n",
       "      <td>36848</td>\n",
       "      <td>889134</td>\n",
       "      <td>24.1</td>\n",
       "      <td>2980</td>\n",
       "    </tr>\n",
       "    <tr>\n",
       "      <th>10</th>\n",
       "      <td>ICA</td>\n",
       "      <td>21327</td>\n",
       "      <td>817965</td>\n",
       "      <td>38.4</td>\n",
       "      <td>9116</td>\n",
       "    </tr>\n",
       "    <tr>\n",
       "      <th>11</th>\n",
       "      <td>JUNIN</td>\n",
       "      <td>44197</td>\n",
       "      <td>1389850</td>\n",
       "      <td>31.4</td>\n",
       "      <td>7621</td>\n",
       "    </tr>\n",
       "    <tr>\n",
       "      <th>12</th>\n",
       "      <td>LA LIBERTAD</td>\n",
       "      <td>25495</td>\n",
       "      <td>1956389</td>\n",
       "      <td>76.7</td>\n",
       "      <td>11031</td>\n",
       "    </tr>\n",
       "    <tr>\n",
       "      <th>13</th>\n",
       "      <td>LAMBAYEQUE</td>\n",
       "      <td>14231</td>\n",
       "      <td>1300720</td>\n",
       "      <td>91.4</td>\n",
       "      <td>9488</td>\n",
       "    </tr>\n",
       "    <tr>\n",
       "      <th>14</th>\n",
       "      <td>LIMA</td>\n",
       "      <td>34796</td>\n",
       "      <td>10458367</td>\n",
       "      <td>300.6</td>\n",
       "      <td>96799</td>\n",
       "    </tr>\n",
       "    <tr>\n",
       "      <th>15</th>\n",
       "      <td>LORETO</td>\n",
       "      <td>368851</td>\n",
       "      <td>1077831</td>\n",
       "      <td>2.9</td>\n",
       "      <td>4474</td>\n",
       "    </tr>\n",
       "    <tr>\n",
       "      <th>16</th>\n",
       "      <td>MADRE DE DIOS</td>\n",
       "      <td>85300</td>\n",
       "      <td>150181</td>\n",
       "      <td>1.8</td>\n",
       "      <td>888</td>\n",
       "    </tr>\n",
       "    <tr>\n",
       "      <th>17</th>\n",
       "      <td>MOQUEGUA</td>\n",
       "      <td>15733</td>\n",
       "      <td>187941</td>\n",
       "      <td>11.9</td>\n",
       "      <td>1717</td>\n",
       "    </tr>\n",
       "    <tr>\n",
       "      <th>18</th>\n",
       "      <td>PASCO</td>\n",
       "      <td>25319</td>\n",
       "      <td>312777</td>\n",
       "      <td>12.4</td>\n",
       "      <td>1141</td>\n",
       "    </tr>\n",
       "    <tr>\n",
       "      <th>19</th>\n",
       "      <td>PIURA</td>\n",
       "      <td>35892</td>\n",
       "      <td>1901896</td>\n",
       "      <td>53.0</td>\n",
       "      <td>13230</td>\n",
       "    </tr>\n",
       "    <tr>\n",
       "      <th>20</th>\n",
       "      <td>PUNO</td>\n",
       "      <td>71999</td>\n",
       "      <td>1471405</td>\n",
       "      <td>20.4</td>\n",
       "      <td>4844</td>\n",
       "    </tr>\n",
       "    <tr>\n",
       "      <th>21</th>\n",
       "      <td>SAN MARTIN</td>\n",
       "      <td>51253</td>\n",
       "      <td>884795</td>\n",
       "      <td>17.3</td>\n",
       "      <td>3242</td>\n",
       "    </tr>\n",
       "    <tr>\n",
       "      <th>22</th>\n",
       "      <td>TACNA</td>\n",
       "      <td>51253</td>\n",
       "      <td>358314</td>\n",
       "      <td>7.0</td>\n",
       "      <td>2261</td>\n",
       "    </tr>\n",
       "    <tr>\n",
       "      <th>23</th>\n",
       "      <td>TUMBES</td>\n",
       "      <td>4669</td>\n",
       "      <td>248877</td>\n",
       "      <td>53.3</td>\n",
       "      <td>1754</td>\n",
       "    </tr>\n",
       "    <tr>\n",
       "      <th>24</th>\n",
       "      <td>UCAYALI</td>\n",
       "      <td>102410</td>\n",
       "      <td>518190</td>\n",
       "      <td>5.1</td>\n",
       "      <td>3299</td>\n",
       "    </tr>\n",
       "  </tbody>\n",
       "</table>\n",
       "</div>"
      ],
      "text/plain": [
       "     DEPARTAMENTO  SUPERFICIE  Cantidad  Densidad  Fallecidos\n",
       "0        AMAZONAS       39249    427041      10.9        1409\n",
       "1          ANCASH       35914   1171756      32.6        7391\n",
       "2        APURIMAC       20895    466936      22.3        1694\n",
       "3        AREQUIPA       63345   1350676      21.3       10602\n",
       "4        AYACUCHO       43814    718634      16.4        2407\n",
       "5       CAJAMARCA       33317   1543104      46.3        4608\n",
       "6          CALLAO         146   1067815    7313.8       10891\n",
       "7           CUSCO       71986   1346373      18.7        5291\n",
       "8    HUANCAVELICA       22131    509117      23.0        1300\n",
       "9         HUANUCO       36848    889134      24.1        2980\n",
       "10            ICA       21327    817965      38.4        9116\n",
       "11          JUNIN       44197   1389850      31.4        7621\n",
       "12    LA LIBERTAD       25495   1956389      76.7       11031\n",
       "13     LAMBAYEQUE       14231   1300720      91.4        9488\n",
       "14           LIMA       34796  10458367     300.6       96799\n",
       "15         LORETO      368851   1077831       2.9        4474\n",
       "16  MADRE DE DIOS       85300    150181       1.8         888\n",
       "17       MOQUEGUA       15733    187941      11.9        1717\n",
       "18          PASCO       25319    312777      12.4        1141\n",
       "19          PIURA       35892   1901896      53.0       13230\n",
       "20           PUNO       71999   1471405      20.4        4844\n",
       "21     SAN MARTIN       51253    884795      17.3        3242\n",
       "22          TACNA       51253    358314       7.0        2261\n",
       "23         TUMBES        4669    248877      53.3        1754\n",
       "24        UCAYALI      102410    518190       5.1        3299"
      ]
     },
     "execution_count": 21,
     "metadata": {},
     "output_type": "execute_result"
    }
   ],
   "source": [
    "muertes_densidad['Densidad']=muertes_densidad['Densidad'].round(1)\n",
    "muertes_densidad"
   ]
  },
  {
   "cell_type": "code",
   "execution_count": 22,
   "id": "4595c4b5",
   "metadata": {},
   "outputs": [
    {
     "data": {
      "text/html": [
       "<div>\n",
       "<style scoped>\n",
       "    .dataframe tbody tr th:only-of-type {\n",
       "        vertical-align: middle;\n",
       "    }\n",
       "\n",
       "    .dataframe tbody tr th {\n",
       "        vertical-align: top;\n",
       "    }\n",
       "\n",
       "    .dataframe thead th {\n",
       "        text-align: right;\n",
       "    }\n",
       "</style>\n",
       "<table border=\"1\" class=\"dataframe\">\n",
       "  <thead>\n",
       "    <tr style=\"text-align: right;\">\n",
       "      <th></th>\n",
       "      <th>DEPARTAMENTO</th>\n",
       "      <th>SUPERFICIE</th>\n",
       "      <th>Cantidad</th>\n",
       "      <th>Densidad</th>\n",
       "      <th>Fallecidos</th>\n",
       "    </tr>\n",
       "  </thead>\n",
       "  <tbody>\n",
       "    <tr>\n",
       "      <th>6</th>\n",
       "      <td>CALLAO</td>\n",
       "      <td>146</td>\n",
       "      <td>1067815</td>\n",
       "      <td>7313.8</td>\n",
       "      <td>10891</td>\n",
       "    </tr>\n",
       "    <tr>\n",
       "      <th>14</th>\n",
       "      <td>LIMA</td>\n",
       "      <td>34796</td>\n",
       "      <td>10458367</td>\n",
       "      <td>300.6</td>\n",
       "      <td>96799</td>\n",
       "    </tr>\n",
       "    <tr>\n",
       "      <th>13</th>\n",
       "      <td>LAMBAYEQUE</td>\n",
       "      <td>14231</td>\n",
       "      <td>1300720</td>\n",
       "      <td>91.4</td>\n",
       "      <td>9488</td>\n",
       "    </tr>\n",
       "    <tr>\n",
       "      <th>12</th>\n",
       "      <td>LA LIBERTAD</td>\n",
       "      <td>25495</td>\n",
       "      <td>1956389</td>\n",
       "      <td>76.7</td>\n",
       "      <td>11031</td>\n",
       "    </tr>\n",
       "    <tr>\n",
       "      <th>23</th>\n",
       "      <td>TUMBES</td>\n",
       "      <td>4669</td>\n",
       "      <td>248877</td>\n",
       "      <td>53.3</td>\n",
       "      <td>1754</td>\n",
       "    </tr>\n",
       "    <tr>\n",
       "      <th>19</th>\n",
       "      <td>PIURA</td>\n",
       "      <td>35892</td>\n",
       "      <td>1901896</td>\n",
       "      <td>53.0</td>\n",
       "      <td>13230</td>\n",
       "    </tr>\n",
       "    <tr>\n",
       "      <th>5</th>\n",
       "      <td>CAJAMARCA</td>\n",
       "      <td>33317</td>\n",
       "      <td>1543104</td>\n",
       "      <td>46.3</td>\n",
       "      <td>4608</td>\n",
       "    </tr>\n",
       "    <tr>\n",
       "      <th>10</th>\n",
       "      <td>ICA</td>\n",
       "      <td>21327</td>\n",
       "      <td>817965</td>\n",
       "      <td>38.4</td>\n",
       "      <td>9116</td>\n",
       "    </tr>\n",
       "    <tr>\n",
       "      <th>1</th>\n",
       "      <td>ANCASH</td>\n",
       "      <td>35914</td>\n",
       "      <td>1171756</td>\n",
       "      <td>32.6</td>\n",
       "      <td>7391</td>\n",
       "    </tr>\n",
       "    <tr>\n",
       "      <th>11</th>\n",
       "      <td>JUNIN</td>\n",
       "      <td>44197</td>\n",
       "      <td>1389850</td>\n",
       "      <td>31.4</td>\n",
       "      <td>7621</td>\n",
       "    </tr>\n",
       "    <tr>\n",
       "      <th>9</th>\n",
       "      <td>HUANUCO</td>\n",
       "      <td>36848</td>\n",
       "      <td>889134</td>\n",
       "      <td>24.1</td>\n",
       "      <td>2980</td>\n",
       "    </tr>\n",
       "    <tr>\n",
       "      <th>8</th>\n",
       "      <td>HUANCAVELICA</td>\n",
       "      <td>22131</td>\n",
       "      <td>509117</td>\n",
       "      <td>23.0</td>\n",
       "      <td>1300</td>\n",
       "    </tr>\n",
       "    <tr>\n",
       "      <th>2</th>\n",
       "      <td>APURIMAC</td>\n",
       "      <td>20895</td>\n",
       "      <td>466936</td>\n",
       "      <td>22.3</td>\n",
       "      <td>1694</td>\n",
       "    </tr>\n",
       "    <tr>\n",
       "      <th>3</th>\n",
       "      <td>AREQUIPA</td>\n",
       "      <td>63345</td>\n",
       "      <td>1350676</td>\n",
       "      <td>21.3</td>\n",
       "      <td>10602</td>\n",
       "    </tr>\n",
       "    <tr>\n",
       "      <th>20</th>\n",
       "      <td>PUNO</td>\n",
       "      <td>71999</td>\n",
       "      <td>1471405</td>\n",
       "      <td>20.4</td>\n",
       "      <td>4844</td>\n",
       "    </tr>\n",
       "    <tr>\n",
       "      <th>7</th>\n",
       "      <td>CUSCO</td>\n",
       "      <td>71986</td>\n",
       "      <td>1346373</td>\n",
       "      <td>18.7</td>\n",
       "      <td>5291</td>\n",
       "    </tr>\n",
       "    <tr>\n",
       "      <th>21</th>\n",
       "      <td>SAN MARTIN</td>\n",
       "      <td>51253</td>\n",
       "      <td>884795</td>\n",
       "      <td>17.3</td>\n",
       "      <td>3242</td>\n",
       "    </tr>\n",
       "    <tr>\n",
       "      <th>4</th>\n",
       "      <td>AYACUCHO</td>\n",
       "      <td>43814</td>\n",
       "      <td>718634</td>\n",
       "      <td>16.4</td>\n",
       "      <td>2407</td>\n",
       "    </tr>\n",
       "    <tr>\n",
       "      <th>18</th>\n",
       "      <td>PASCO</td>\n",
       "      <td>25319</td>\n",
       "      <td>312777</td>\n",
       "      <td>12.4</td>\n",
       "      <td>1141</td>\n",
       "    </tr>\n",
       "    <tr>\n",
       "      <th>17</th>\n",
       "      <td>MOQUEGUA</td>\n",
       "      <td>15733</td>\n",
       "      <td>187941</td>\n",
       "      <td>11.9</td>\n",
       "      <td>1717</td>\n",
       "    </tr>\n",
       "    <tr>\n",
       "      <th>0</th>\n",
       "      <td>AMAZONAS</td>\n",
       "      <td>39249</td>\n",
       "      <td>427041</td>\n",
       "      <td>10.9</td>\n",
       "      <td>1409</td>\n",
       "    </tr>\n",
       "    <tr>\n",
       "      <th>22</th>\n",
       "      <td>TACNA</td>\n",
       "      <td>51253</td>\n",
       "      <td>358314</td>\n",
       "      <td>7.0</td>\n",
       "      <td>2261</td>\n",
       "    </tr>\n",
       "    <tr>\n",
       "      <th>24</th>\n",
       "      <td>UCAYALI</td>\n",
       "      <td>102410</td>\n",
       "      <td>518190</td>\n",
       "      <td>5.1</td>\n",
       "      <td>3299</td>\n",
       "    </tr>\n",
       "    <tr>\n",
       "      <th>15</th>\n",
       "      <td>LORETO</td>\n",
       "      <td>368851</td>\n",
       "      <td>1077831</td>\n",
       "      <td>2.9</td>\n",
       "      <td>4474</td>\n",
       "    </tr>\n",
       "    <tr>\n",
       "      <th>16</th>\n",
       "      <td>MADRE DE DIOS</td>\n",
       "      <td>85300</td>\n",
       "      <td>150181</td>\n",
       "      <td>1.8</td>\n",
       "      <td>888</td>\n",
       "    </tr>\n",
       "  </tbody>\n",
       "</table>\n",
       "</div>"
      ],
      "text/plain": [
       "     DEPARTAMENTO  SUPERFICIE  Cantidad  Densidad  Fallecidos\n",
       "6          CALLAO         146   1067815    7313.8       10891\n",
       "14           LIMA       34796  10458367     300.6       96799\n",
       "13     LAMBAYEQUE       14231   1300720      91.4        9488\n",
       "12    LA LIBERTAD       25495   1956389      76.7       11031\n",
       "23         TUMBES        4669    248877      53.3        1754\n",
       "19          PIURA       35892   1901896      53.0       13230\n",
       "5       CAJAMARCA       33317   1543104      46.3        4608\n",
       "10            ICA       21327    817965      38.4        9116\n",
       "1          ANCASH       35914   1171756      32.6        7391\n",
       "11          JUNIN       44197   1389850      31.4        7621\n",
       "9         HUANUCO       36848    889134      24.1        2980\n",
       "8    HUANCAVELICA       22131    509117      23.0        1300\n",
       "2        APURIMAC       20895    466936      22.3        1694\n",
       "3        AREQUIPA       63345   1350676      21.3       10602\n",
       "20           PUNO       71999   1471405      20.4        4844\n",
       "7           CUSCO       71986   1346373      18.7        5291\n",
       "21     SAN MARTIN       51253    884795      17.3        3242\n",
       "4        AYACUCHO       43814    718634      16.4        2407\n",
       "18          PASCO       25319    312777      12.4        1141\n",
       "17       MOQUEGUA       15733    187941      11.9        1717\n",
       "0        AMAZONAS       39249    427041      10.9        1409\n",
       "22          TACNA       51253    358314       7.0        2261\n",
       "24        UCAYALI      102410    518190       5.1        3299\n",
       "15         LORETO      368851   1077831       2.9        4474\n",
       "16  MADRE DE DIOS       85300    150181       1.8         888"
      ]
     },
     "execution_count": 22,
     "metadata": {},
     "output_type": "execute_result"
    }
   ],
   "source": [
    "df_ordenado = muertes_densidad.sort_values(by='Densidad', ascending=False) \n",
    "df_ordenado # ordenar por densidad"
   ]
  },
  {
   "cell_type": "code",
   "execution_count": 24,
   "id": "e477f733",
   "metadata": {},
   "outputs": [
    {
     "data": {
      "application/vnd.plotly.v1+json": {
       "config": {
        "plotlyServerURL": "https://plot.ly"
       },
       "data": [
        {
         "hovertemplate": "DEPARTAMENTO=CALLAO<br>Fallecidos=%{marker.size}<br>Densidad=%{y}<extra></extra>",
         "legendgroup": "CALLAO",
         "marker": {
          "color": "#636efa",
          "size": [
           10891
          ],
          "sizemode": "area",
          "sizeref": 11.950493827160495,
          "symbol": "circle"
         },
         "mode": "markers",
         "name": "CALLAO",
         "orientation": "v",
         "showlegend": true,
         "type": "scatter",
         "x": [
          10891
         ],
         "xaxis": "x",
         "y": [
          7313.8
         ],
         "yaxis": "y"
        },
        {
         "hovertemplate": "DEPARTAMENTO=LIMA<br>Fallecidos=%{marker.size}<br>Densidad=%{y}<extra></extra>",
         "legendgroup": "LIMA",
         "marker": {
          "color": "#EF553B",
          "size": [
           96799
          ],
          "sizemode": "area",
          "sizeref": 11.950493827160495,
          "symbol": "circle"
         },
         "mode": "markers",
         "name": "LIMA",
         "orientation": "v",
         "showlegend": true,
         "type": "scatter",
         "x": [
          96799
         ],
         "xaxis": "x",
         "y": [
          300.6
         ],
         "yaxis": "y"
        },
        {
         "hovertemplate": "DEPARTAMENTO=LAMBAYEQUE<br>Fallecidos=%{marker.size}<br>Densidad=%{y}<extra></extra>",
         "legendgroup": "LAMBAYEQUE",
         "marker": {
          "color": "#00cc96",
          "size": [
           9488
          ],
          "sizemode": "area",
          "sizeref": 11.950493827160495,
          "symbol": "circle"
         },
         "mode": "markers",
         "name": "LAMBAYEQUE",
         "orientation": "v",
         "showlegend": true,
         "type": "scatter",
         "x": [
          9488
         ],
         "xaxis": "x",
         "y": [
          91.4
         ],
         "yaxis": "y"
        },
        {
         "hovertemplate": "DEPARTAMENTO=LA LIBERTAD<br>Fallecidos=%{marker.size}<br>Densidad=%{y}<extra></extra>",
         "legendgroup": "LA LIBERTAD",
         "marker": {
          "color": "#ab63fa",
          "size": [
           11031
          ],
          "sizemode": "area",
          "sizeref": 11.950493827160495,
          "symbol": "circle"
         },
         "mode": "markers",
         "name": "LA LIBERTAD",
         "orientation": "v",
         "showlegend": true,
         "type": "scatter",
         "x": [
          11031
         ],
         "xaxis": "x",
         "y": [
          76.7
         ],
         "yaxis": "y"
        },
        {
         "hovertemplate": "DEPARTAMENTO=TUMBES<br>Fallecidos=%{marker.size}<br>Densidad=%{y}<extra></extra>",
         "legendgroup": "TUMBES",
         "marker": {
          "color": "#FFA15A",
          "size": [
           1754
          ],
          "sizemode": "area",
          "sizeref": 11.950493827160495,
          "symbol": "circle"
         },
         "mode": "markers",
         "name": "TUMBES",
         "orientation": "v",
         "showlegend": true,
         "type": "scatter",
         "x": [
          1754
         ],
         "xaxis": "x",
         "y": [
          53.3
         ],
         "yaxis": "y"
        },
        {
         "hovertemplate": "DEPARTAMENTO=PIURA<br>Fallecidos=%{marker.size}<br>Densidad=%{y}<extra></extra>",
         "legendgroup": "PIURA",
         "marker": {
          "color": "#19d3f3",
          "size": [
           13230
          ],
          "sizemode": "area",
          "sizeref": 11.950493827160495,
          "symbol": "circle"
         },
         "mode": "markers",
         "name": "PIURA",
         "orientation": "v",
         "showlegend": true,
         "type": "scatter",
         "x": [
          13230
         ],
         "xaxis": "x",
         "y": [
          53
         ],
         "yaxis": "y"
        },
        {
         "hovertemplate": "DEPARTAMENTO=CAJAMARCA<br>Fallecidos=%{marker.size}<br>Densidad=%{y}<extra></extra>",
         "legendgroup": "CAJAMARCA",
         "marker": {
          "color": "#FF6692",
          "size": [
           4608
          ],
          "sizemode": "area",
          "sizeref": 11.950493827160495,
          "symbol": "circle"
         },
         "mode": "markers",
         "name": "CAJAMARCA",
         "orientation": "v",
         "showlegend": true,
         "type": "scatter",
         "x": [
          4608
         ],
         "xaxis": "x",
         "y": [
          46.3
         ],
         "yaxis": "y"
        },
        {
         "hovertemplate": "DEPARTAMENTO=ICA<br>Fallecidos=%{marker.size}<br>Densidad=%{y}<extra></extra>",
         "legendgroup": "ICA",
         "marker": {
          "color": "#B6E880",
          "size": [
           9116
          ],
          "sizemode": "area",
          "sizeref": 11.950493827160495,
          "symbol": "circle"
         },
         "mode": "markers",
         "name": "ICA",
         "orientation": "v",
         "showlegend": true,
         "type": "scatter",
         "x": [
          9116
         ],
         "xaxis": "x",
         "y": [
          38.4
         ],
         "yaxis": "y"
        },
        {
         "hovertemplate": "DEPARTAMENTO=ANCASH<br>Fallecidos=%{marker.size}<br>Densidad=%{y}<extra></extra>",
         "legendgroup": "ANCASH",
         "marker": {
          "color": "#FF97FF",
          "size": [
           7391
          ],
          "sizemode": "area",
          "sizeref": 11.950493827160495,
          "symbol": "circle"
         },
         "mode": "markers",
         "name": "ANCASH",
         "orientation": "v",
         "showlegend": true,
         "type": "scatter",
         "x": [
          7391
         ],
         "xaxis": "x",
         "y": [
          32.6
         ],
         "yaxis": "y"
        },
        {
         "hovertemplate": "DEPARTAMENTO=JUNIN<br>Fallecidos=%{marker.size}<br>Densidad=%{y}<extra></extra>",
         "legendgroup": "JUNIN",
         "marker": {
          "color": "#FECB52",
          "size": [
           7621
          ],
          "sizemode": "area",
          "sizeref": 11.950493827160495,
          "symbol": "circle"
         },
         "mode": "markers",
         "name": "JUNIN",
         "orientation": "v",
         "showlegend": true,
         "type": "scatter",
         "x": [
          7621
         ],
         "xaxis": "x",
         "y": [
          31.4
         ],
         "yaxis": "y"
        },
        {
         "hovertemplate": "DEPARTAMENTO=HUANUCO<br>Fallecidos=%{marker.size}<br>Densidad=%{y}<extra></extra>",
         "legendgroup": "HUANUCO",
         "marker": {
          "color": "#636efa",
          "size": [
           2980
          ],
          "sizemode": "area",
          "sizeref": 11.950493827160495,
          "symbol": "circle"
         },
         "mode": "markers",
         "name": "HUANUCO",
         "orientation": "v",
         "showlegend": true,
         "type": "scatter",
         "x": [
          2980
         ],
         "xaxis": "x",
         "y": [
          24.1
         ],
         "yaxis": "y"
        },
        {
         "hovertemplate": "DEPARTAMENTO=HUANCAVELICA<br>Fallecidos=%{marker.size}<br>Densidad=%{y}<extra></extra>",
         "legendgroup": "HUANCAVELICA",
         "marker": {
          "color": "#EF553B",
          "size": [
           1300
          ],
          "sizemode": "area",
          "sizeref": 11.950493827160495,
          "symbol": "circle"
         },
         "mode": "markers",
         "name": "HUANCAVELICA",
         "orientation": "v",
         "showlegend": true,
         "type": "scatter",
         "x": [
          1300
         ],
         "xaxis": "x",
         "y": [
          23
         ],
         "yaxis": "y"
        },
        {
         "hovertemplate": "DEPARTAMENTO=APURIMAC<br>Fallecidos=%{marker.size}<br>Densidad=%{y}<extra></extra>",
         "legendgroup": "APURIMAC",
         "marker": {
          "color": "#00cc96",
          "size": [
           1694
          ],
          "sizemode": "area",
          "sizeref": 11.950493827160495,
          "symbol": "circle"
         },
         "mode": "markers",
         "name": "APURIMAC",
         "orientation": "v",
         "showlegend": true,
         "type": "scatter",
         "x": [
          1694
         ],
         "xaxis": "x",
         "y": [
          22.3
         ],
         "yaxis": "y"
        },
        {
         "hovertemplate": "DEPARTAMENTO=AREQUIPA<br>Fallecidos=%{marker.size}<br>Densidad=%{y}<extra></extra>",
         "legendgroup": "AREQUIPA",
         "marker": {
          "color": "#ab63fa",
          "size": [
           10602
          ],
          "sizemode": "area",
          "sizeref": 11.950493827160495,
          "symbol": "circle"
         },
         "mode": "markers",
         "name": "AREQUIPA",
         "orientation": "v",
         "showlegend": true,
         "type": "scatter",
         "x": [
          10602
         ],
         "xaxis": "x",
         "y": [
          21.3
         ],
         "yaxis": "y"
        },
        {
         "hovertemplate": "DEPARTAMENTO=PUNO<br>Fallecidos=%{marker.size}<br>Densidad=%{y}<extra></extra>",
         "legendgroup": "PUNO",
         "marker": {
          "color": "#FFA15A",
          "size": [
           4844
          ],
          "sizemode": "area",
          "sizeref": 11.950493827160495,
          "symbol": "circle"
         },
         "mode": "markers",
         "name": "PUNO",
         "orientation": "v",
         "showlegend": true,
         "type": "scatter",
         "x": [
          4844
         ],
         "xaxis": "x",
         "y": [
          20.4
         ],
         "yaxis": "y"
        },
        {
         "hovertemplate": "DEPARTAMENTO=CUSCO<br>Fallecidos=%{marker.size}<br>Densidad=%{y}<extra></extra>",
         "legendgroup": "CUSCO",
         "marker": {
          "color": "#19d3f3",
          "size": [
           5291
          ],
          "sizemode": "area",
          "sizeref": 11.950493827160495,
          "symbol": "circle"
         },
         "mode": "markers",
         "name": "CUSCO",
         "orientation": "v",
         "showlegend": true,
         "type": "scatter",
         "x": [
          5291
         ],
         "xaxis": "x",
         "y": [
          18.7
         ],
         "yaxis": "y"
        },
        {
         "hovertemplate": "DEPARTAMENTO=SAN MARTIN<br>Fallecidos=%{marker.size}<br>Densidad=%{y}<extra></extra>",
         "legendgroup": "SAN MARTIN",
         "marker": {
          "color": "#FF6692",
          "size": [
           3242
          ],
          "sizemode": "area",
          "sizeref": 11.950493827160495,
          "symbol": "circle"
         },
         "mode": "markers",
         "name": "SAN MARTIN",
         "orientation": "v",
         "showlegend": true,
         "type": "scatter",
         "x": [
          3242
         ],
         "xaxis": "x",
         "y": [
          17.3
         ],
         "yaxis": "y"
        },
        {
         "hovertemplate": "DEPARTAMENTO=AYACUCHO<br>Fallecidos=%{marker.size}<br>Densidad=%{y}<extra></extra>",
         "legendgroup": "AYACUCHO",
         "marker": {
          "color": "#B6E880",
          "size": [
           2407
          ],
          "sizemode": "area",
          "sizeref": 11.950493827160495,
          "symbol": "circle"
         },
         "mode": "markers",
         "name": "AYACUCHO",
         "orientation": "v",
         "showlegend": true,
         "type": "scatter",
         "x": [
          2407
         ],
         "xaxis": "x",
         "y": [
          16.4
         ],
         "yaxis": "y"
        },
        {
         "hovertemplate": "DEPARTAMENTO=PASCO<br>Fallecidos=%{marker.size}<br>Densidad=%{y}<extra></extra>",
         "legendgroup": "PASCO",
         "marker": {
          "color": "#FF97FF",
          "size": [
           1141
          ],
          "sizemode": "area",
          "sizeref": 11.950493827160495,
          "symbol": "circle"
         },
         "mode": "markers",
         "name": "PASCO",
         "orientation": "v",
         "showlegend": true,
         "type": "scatter",
         "x": [
          1141
         ],
         "xaxis": "x",
         "y": [
          12.4
         ],
         "yaxis": "y"
        },
        {
         "hovertemplate": "DEPARTAMENTO=MOQUEGUA<br>Fallecidos=%{marker.size}<br>Densidad=%{y}<extra></extra>",
         "legendgroup": "MOQUEGUA",
         "marker": {
          "color": "#FECB52",
          "size": [
           1717
          ],
          "sizemode": "area",
          "sizeref": 11.950493827160495,
          "symbol": "circle"
         },
         "mode": "markers",
         "name": "MOQUEGUA",
         "orientation": "v",
         "showlegend": true,
         "type": "scatter",
         "x": [
          1717
         ],
         "xaxis": "x",
         "y": [
          11.9
         ],
         "yaxis": "y"
        },
        {
         "hovertemplate": "DEPARTAMENTO=AMAZONAS<br>Fallecidos=%{marker.size}<br>Densidad=%{y}<extra></extra>",
         "legendgroup": "AMAZONAS",
         "marker": {
          "color": "#636efa",
          "size": [
           1409
          ],
          "sizemode": "area",
          "sizeref": 11.950493827160495,
          "symbol": "circle"
         },
         "mode": "markers",
         "name": "AMAZONAS",
         "orientation": "v",
         "showlegend": true,
         "type": "scatter",
         "x": [
          1409
         ],
         "xaxis": "x",
         "y": [
          10.9
         ],
         "yaxis": "y"
        },
        {
         "hovertemplate": "DEPARTAMENTO=TACNA<br>Fallecidos=%{marker.size}<br>Densidad=%{y}<extra></extra>",
         "legendgroup": "TACNA",
         "marker": {
          "color": "#EF553B",
          "size": [
           2261
          ],
          "sizemode": "area",
          "sizeref": 11.950493827160495,
          "symbol": "circle"
         },
         "mode": "markers",
         "name": "TACNA",
         "orientation": "v",
         "showlegend": true,
         "type": "scatter",
         "x": [
          2261
         ],
         "xaxis": "x",
         "y": [
          7
         ],
         "yaxis": "y"
        },
        {
         "hovertemplate": "DEPARTAMENTO=UCAYALI<br>Fallecidos=%{marker.size}<br>Densidad=%{y}<extra></extra>",
         "legendgroup": "UCAYALI",
         "marker": {
          "color": "#00cc96",
          "size": [
           3299
          ],
          "sizemode": "area",
          "sizeref": 11.950493827160495,
          "symbol": "circle"
         },
         "mode": "markers",
         "name": "UCAYALI",
         "orientation": "v",
         "showlegend": true,
         "type": "scatter",
         "x": [
          3299
         ],
         "xaxis": "x",
         "y": [
          5.1
         ],
         "yaxis": "y"
        },
        {
         "hovertemplate": "DEPARTAMENTO=LORETO<br>Fallecidos=%{marker.size}<br>Densidad=%{y}<extra></extra>",
         "legendgroup": "LORETO",
         "marker": {
          "color": "#ab63fa",
          "size": [
           4474
          ],
          "sizemode": "area",
          "sizeref": 11.950493827160495,
          "symbol": "circle"
         },
         "mode": "markers",
         "name": "LORETO",
         "orientation": "v",
         "showlegend": true,
         "type": "scatter",
         "x": [
          4474
         ],
         "xaxis": "x",
         "y": [
          2.9
         ],
         "yaxis": "y"
        },
        {
         "hovertemplate": "DEPARTAMENTO=MADRE DE DIOS<br>Fallecidos=%{marker.size}<br>Densidad=%{y}<extra></extra>",
         "legendgroup": "MADRE DE DIOS",
         "marker": {
          "color": "#FFA15A",
          "size": [
           888
          ],
          "sizemode": "area",
          "sizeref": 11.950493827160495,
          "symbol": "circle"
         },
         "mode": "markers",
         "name": "MADRE DE DIOS",
         "orientation": "v",
         "showlegend": true,
         "type": "scatter",
         "x": [
          888
         ],
         "xaxis": "x",
         "y": [
          1.8
         ],
         "yaxis": "y"
        }
       ],
       "layout": {
        "height": 700,
        "legend": {
         "itemsizing": "constant",
         "title": {
          "text": "DEPARTAMENTO"
         },
         "tracegroupgap": 0
        },
        "shapes": [
         {
          "line": {
           "color": "black",
           "width": 0.2
          },
          "type": "line",
          "x0": 1000,
          "x1": 50000,
          "y0": 5,
          "y1": 200
         }
        ],
        "template": {
         "data": {
          "bar": [
           {
            "error_x": {
             "color": "#2a3f5f"
            },
            "error_y": {
             "color": "#2a3f5f"
            },
            "marker": {
             "line": {
              "color": "#E5ECF6",
              "width": 0.5
             },
             "pattern": {
              "fillmode": "overlay",
              "size": 10,
              "solidity": 0.2
             }
            },
            "type": "bar"
           }
          ],
          "barpolar": [
           {
            "marker": {
             "line": {
              "color": "#E5ECF6",
              "width": 0.5
             },
             "pattern": {
              "fillmode": "overlay",
              "size": 10,
              "solidity": 0.2
             }
            },
            "type": "barpolar"
           }
          ],
          "carpet": [
           {
            "aaxis": {
             "endlinecolor": "#2a3f5f",
             "gridcolor": "white",
             "linecolor": "white",
             "minorgridcolor": "white",
             "startlinecolor": "#2a3f5f"
            },
            "baxis": {
             "endlinecolor": "#2a3f5f",
             "gridcolor": "white",
             "linecolor": "white",
             "minorgridcolor": "white",
             "startlinecolor": "#2a3f5f"
            },
            "type": "carpet"
           }
          ],
          "choropleth": [
           {
            "colorbar": {
             "outlinewidth": 0,
             "ticks": ""
            },
            "type": "choropleth"
           }
          ],
          "contour": [
           {
            "colorbar": {
             "outlinewidth": 0,
             "ticks": ""
            },
            "colorscale": [
             [
              0,
              "#0d0887"
             ],
             [
              0.1111111111111111,
              "#46039f"
             ],
             [
              0.2222222222222222,
              "#7201a8"
             ],
             [
              0.3333333333333333,
              "#9c179e"
             ],
             [
              0.4444444444444444,
              "#bd3786"
             ],
             [
              0.5555555555555556,
              "#d8576b"
             ],
             [
              0.6666666666666666,
              "#ed7953"
             ],
             [
              0.7777777777777778,
              "#fb9f3a"
             ],
             [
              0.8888888888888888,
              "#fdca26"
             ],
             [
              1,
              "#f0f921"
             ]
            ],
            "type": "contour"
           }
          ],
          "contourcarpet": [
           {
            "colorbar": {
             "outlinewidth": 0,
             "ticks": ""
            },
            "type": "contourcarpet"
           }
          ],
          "heatmap": [
           {
            "colorbar": {
             "outlinewidth": 0,
             "ticks": ""
            },
            "colorscale": [
             [
              0,
              "#0d0887"
             ],
             [
              0.1111111111111111,
              "#46039f"
             ],
             [
              0.2222222222222222,
              "#7201a8"
             ],
             [
              0.3333333333333333,
              "#9c179e"
             ],
             [
              0.4444444444444444,
              "#bd3786"
             ],
             [
              0.5555555555555556,
              "#d8576b"
             ],
             [
              0.6666666666666666,
              "#ed7953"
             ],
             [
              0.7777777777777778,
              "#fb9f3a"
             ],
             [
              0.8888888888888888,
              "#fdca26"
             ],
             [
              1,
              "#f0f921"
             ]
            ],
            "type": "heatmap"
           }
          ],
          "heatmapgl": [
           {
            "colorbar": {
             "outlinewidth": 0,
             "ticks": ""
            },
            "colorscale": [
             [
              0,
              "#0d0887"
             ],
             [
              0.1111111111111111,
              "#46039f"
             ],
             [
              0.2222222222222222,
              "#7201a8"
             ],
             [
              0.3333333333333333,
              "#9c179e"
             ],
             [
              0.4444444444444444,
              "#bd3786"
             ],
             [
              0.5555555555555556,
              "#d8576b"
             ],
             [
              0.6666666666666666,
              "#ed7953"
             ],
             [
              0.7777777777777778,
              "#fb9f3a"
             ],
             [
              0.8888888888888888,
              "#fdca26"
             ],
             [
              1,
              "#f0f921"
             ]
            ],
            "type": "heatmapgl"
           }
          ],
          "histogram": [
           {
            "marker": {
             "pattern": {
              "fillmode": "overlay",
              "size": 10,
              "solidity": 0.2
             }
            },
            "type": "histogram"
           }
          ],
          "histogram2d": [
           {
            "colorbar": {
             "outlinewidth": 0,
             "ticks": ""
            },
            "colorscale": [
             [
              0,
              "#0d0887"
             ],
             [
              0.1111111111111111,
              "#46039f"
             ],
             [
              0.2222222222222222,
              "#7201a8"
             ],
             [
              0.3333333333333333,
              "#9c179e"
             ],
             [
              0.4444444444444444,
              "#bd3786"
             ],
             [
              0.5555555555555556,
              "#d8576b"
             ],
             [
              0.6666666666666666,
              "#ed7953"
             ],
             [
              0.7777777777777778,
              "#fb9f3a"
             ],
             [
              0.8888888888888888,
              "#fdca26"
             ],
             [
              1,
              "#f0f921"
             ]
            ],
            "type": "histogram2d"
           }
          ],
          "histogram2dcontour": [
           {
            "colorbar": {
             "outlinewidth": 0,
             "ticks": ""
            },
            "colorscale": [
             [
              0,
              "#0d0887"
             ],
             [
              0.1111111111111111,
              "#46039f"
             ],
             [
              0.2222222222222222,
              "#7201a8"
             ],
             [
              0.3333333333333333,
              "#9c179e"
             ],
             [
              0.4444444444444444,
              "#bd3786"
             ],
             [
              0.5555555555555556,
              "#d8576b"
             ],
             [
              0.6666666666666666,
              "#ed7953"
             ],
             [
              0.7777777777777778,
              "#fb9f3a"
             ],
             [
              0.8888888888888888,
              "#fdca26"
             ],
             [
              1,
              "#f0f921"
             ]
            ],
            "type": "histogram2dcontour"
           }
          ],
          "mesh3d": [
           {
            "colorbar": {
             "outlinewidth": 0,
             "ticks": ""
            },
            "type": "mesh3d"
           }
          ],
          "parcoords": [
           {
            "line": {
             "colorbar": {
              "outlinewidth": 0,
              "ticks": ""
             }
            },
            "type": "parcoords"
           }
          ],
          "pie": [
           {
            "automargin": true,
            "type": "pie"
           }
          ],
          "scatter": [
           {
            "fillpattern": {
             "fillmode": "overlay",
             "size": 10,
             "solidity": 0.2
            },
            "type": "scatter"
           }
          ],
          "scatter3d": [
           {
            "line": {
             "colorbar": {
              "outlinewidth": 0,
              "ticks": ""
             }
            },
            "marker": {
             "colorbar": {
              "outlinewidth": 0,
              "ticks": ""
             }
            },
            "type": "scatter3d"
           }
          ],
          "scattercarpet": [
           {
            "marker": {
             "colorbar": {
              "outlinewidth": 0,
              "ticks": ""
             }
            },
            "type": "scattercarpet"
           }
          ],
          "scattergeo": [
           {
            "marker": {
             "colorbar": {
              "outlinewidth": 0,
              "ticks": ""
             }
            },
            "type": "scattergeo"
           }
          ],
          "scattergl": [
           {
            "marker": {
             "colorbar": {
              "outlinewidth": 0,
              "ticks": ""
             }
            },
            "type": "scattergl"
           }
          ],
          "scattermapbox": [
           {
            "marker": {
             "colorbar": {
              "outlinewidth": 0,
              "ticks": ""
             }
            },
            "type": "scattermapbox"
           }
          ],
          "scatterpolar": [
           {
            "marker": {
             "colorbar": {
              "outlinewidth": 0,
              "ticks": ""
             }
            },
            "type": "scatterpolar"
           }
          ],
          "scatterpolargl": [
           {
            "marker": {
             "colorbar": {
              "outlinewidth": 0,
              "ticks": ""
             }
            },
            "type": "scatterpolargl"
           }
          ],
          "scatterternary": [
           {
            "marker": {
             "colorbar": {
              "outlinewidth": 0,
              "ticks": ""
             }
            },
            "type": "scatterternary"
           }
          ],
          "surface": [
           {
            "colorbar": {
             "outlinewidth": 0,
             "ticks": ""
            },
            "colorscale": [
             [
              0,
              "#0d0887"
             ],
             [
              0.1111111111111111,
              "#46039f"
             ],
             [
              0.2222222222222222,
              "#7201a8"
             ],
             [
              0.3333333333333333,
              "#9c179e"
             ],
             [
              0.4444444444444444,
              "#bd3786"
             ],
             [
              0.5555555555555556,
              "#d8576b"
             ],
             [
              0.6666666666666666,
              "#ed7953"
             ],
             [
              0.7777777777777778,
              "#fb9f3a"
             ],
             [
              0.8888888888888888,
              "#fdca26"
             ],
             [
              1,
              "#f0f921"
             ]
            ],
            "type": "surface"
           }
          ],
          "table": [
           {
            "cells": {
             "fill": {
              "color": "#EBF0F8"
             },
             "line": {
              "color": "white"
             }
            },
            "header": {
             "fill": {
              "color": "#C8D4E3"
             },
             "line": {
              "color": "white"
             }
            },
            "type": "table"
           }
          ]
         },
         "layout": {
          "annotationdefaults": {
           "arrowcolor": "#2a3f5f",
           "arrowhead": 0,
           "arrowwidth": 1
          },
          "autotypenumbers": "strict",
          "coloraxis": {
           "colorbar": {
            "outlinewidth": 0,
            "ticks": ""
           }
          },
          "colorscale": {
           "diverging": [
            [
             0,
             "#8e0152"
            ],
            [
             0.1,
             "#c51b7d"
            ],
            [
             0.2,
             "#de77ae"
            ],
            [
             0.3,
             "#f1b6da"
            ],
            [
             0.4,
             "#fde0ef"
            ],
            [
             0.5,
             "#f7f7f7"
            ],
            [
             0.6,
             "#e6f5d0"
            ],
            [
             0.7,
             "#b8e186"
            ],
            [
             0.8,
             "#7fbc41"
            ],
            [
             0.9,
             "#4d9221"
            ],
            [
             1,
             "#276419"
            ]
           ],
           "sequential": [
            [
             0,
             "#0d0887"
            ],
            [
             0.1111111111111111,
             "#46039f"
            ],
            [
             0.2222222222222222,
             "#7201a8"
            ],
            [
             0.3333333333333333,
             "#9c179e"
            ],
            [
             0.4444444444444444,
             "#bd3786"
            ],
            [
             0.5555555555555556,
             "#d8576b"
            ],
            [
             0.6666666666666666,
             "#ed7953"
            ],
            [
             0.7777777777777778,
             "#fb9f3a"
            ],
            [
             0.8888888888888888,
             "#fdca26"
            ],
            [
             1,
             "#f0f921"
            ]
           ],
           "sequentialminus": [
            [
             0,
             "#0d0887"
            ],
            [
             0.1111111111111111,
             "#46039f"
            ],
            [
             0.2222222222222222,
             "#7201a8"
            ],
            [
             0.3333333333333333,
             "#9c179e"
            ],
            [
             0.4444444444444444,
             "#bd3786"
            ],
            [
             0.5555555555555556,
             "#d8576b"
            ],
            [
             0.6666666666666666,
             "#ed7953"
            ],
            [
             0.7777777777777778,
             "#fb9f3a"
            ],
            [
             0.8888888888888888,
             "#fdca26"
            ],
            [
             1,
             "#f0f921"
            ]
           ]
          },
          "colorway": [
           "#636efa",
           "#EF553B",
           "#00cc96",
           "#ab63fa",
           "#FFA15A",
           "#19d3f3",
           "#FF6692",
           "#B6E880",
           "#FF97FF",
           "#FECB52"
          ],
          "font": {
           "color": "#2a3f5f"
          },
          "geo": {
           "bgcolor": "white",
           "lakecolor": "white",
           "landcolor": "#E5ECF6",
           "showlakes": true,
           "showland": true,
           "subunitcolor": "white"
          },
          "hoverlabel": {
           "align": "left"
          },
          "hovermode": "closest",
          "mapbox": {
           "style": "light"
          },
          "paper_bgcolor": "white",
          "plot_bgcolor": "#E5ECF6",
          "polar": {
           "angularaxis": {
            "gridcolor": "white",
            "linecolor": "white",
            "ticks": ""
           },
           "bgcolor": "#E5ECF6",
           "radialaxis": {
            "gridcolor": "white",
            "linecolor": "white",
            "ticks": ""
           }
          },
          "scene": {
           "xaxis": {
            "backgroundcolor": "#E5ECF6",
            "gridcolor": "white",
            "gridwidth": 2,
            "linecolor": "white",
            "showbackground": true,
            "ticks": "",
            "zerolinecolor": "white"
           },
           "yaxis": {
            "backgroundcolor": "#E5ECF6",
            "gridcolor": "white",
            "gridwidth": 2,
            "linecolor": "white",
            "showbackground": true,
            "ticks": "",
            "zerolinecolor": "white"
           },
           "zaxis": {
            "backgroundcolor": "#E5ECF6",
            "gridcolor": "white",
            "gridwidth": 2,
            "linecolor": "white",
            "showbackground": true,
            "ticks": "",
            "zerolinecolor": "white"
           }
          },
          "shapedefaults": {
           "line": {
            "color": "#2a3f5f"
           }
          },
          "ternary": {
           "aaxis": {
            "gridcolor": "white",
            "linecolor": "white",
            "ticks": ""
           },
           "baxis": {
            "gridcolor": "white",
            "linecolor": "white",
            "ticks": ""
           },
           "bgcolor": "#E5ECF6",
           "caxis": {
            "gridcolor": "white",
            "linecolor": "white",
            "ticks": ""
           }
          },
          "title": {
           "x": 0.05
          },
          "xaxis": {
           "automargin": true,
           "gridcolor": "white",
           "linecolor": "white",
           "ticks": "",
           "title": {
            "standoff": 15
           },
           "zerolinecolor": "white",
           "zerolinewidth": 2
          },
          "yaxis": {
           "automargin": true,
           "gridcolor": "white",
           "linecolor": "white",
           "ticks": "",
           "title": {
            "standoff": 15
           },
           "zerolinecolor": "white",
           "zerolinewidth": 2
          }
         }
        },
        "title": {
         "text": " Relacion Fallecidos COVID/Densidad Poblacional"
        },
        "xaxis": {
         "anchor": "y",
         "domain": [
          0,
          1
         ],
         "title": {
          "text": "Fallecidos"
         },
         "type": "log"
        },
        "yaxis": {
         "anchor": "x",
         "domain": [
          0,
          1
         ],
         "title": {
          "text": "Densidad"
         },
         "type": "log"
        }
       }
      },
      "text/html": [
       "<div>                            <div id=\"3d3edfca-aa0b-4799-8140-5b530dd356a0\" class=\"plotly-graph-div\" style=\"height:700px; width:100%;\"></div>            <script type=\"text/javascript\">                require([\"plotly\"], function(Plotly) {                    window.PLOTLYENV=window.PLOTLYENV || {};                                    if (document.getElementById(\"3d3edfca-aa0b-4799-8140-5b530dd356a0\")) {                    Plotly.newPlot(                        \"3d3edfca-aa0b-4799-8140-5b530dd356a0\",                        [{\"hovertemplate\":\"DEPARTAMENTO=CALLAO<br>Fallecidos=%{marker.size}<br>Densidad=%{y}<extra></extra>\",\"legendgroup\":\"CALLAO\",\"marker\":{\"color\":\"#636efa\",\"size\":[10891],\"sizemode\":\"area\",\"sizeref\":11.950493827160495,\"symbol\":\"circle\"},\"mode\":\"markers\",\"name\":\"CALLAO\",\"orientation\":\"v\",\"showlegend\":true,\"x\":[10891],\"xaxis\":\"x\",\"y\":[7313.8],\"yaxis\":\"y\",\"type\":\"scatter\"},{\"hovertemplate\":\"DEPARTAMENTO=LIMA<br>Fallecidos=%{marker.size}<br>Densidad=%{y}<extra></extra>\",\"legendgroup\":\"LIMA\",\"marker\":{\"color\":\"#EF553B\",\"size\":[96799],\"sizemode\":\"area\",\"sizeref\":11.950493827160495,\"symbol\":\"circle\"},\"mode\":\"markers\",\"name\":\"LIMA\",\"orientation\":\"v\",\"showlegend\":true,\"x\":[96799],\"xaxis\":\"x\",\"y\":[300.6],\"yaxis\":\"y\",\"type\":\"scatter\"},{\"hovertemplate\":\"DEPARTAMENTO=LAMBAYEQUE<br>Fallecidos=%{marker.size}<br>Densidad=%{y}<extra></extra>\",\"legendgroup\":\"LAMBAYEQUE\",\"marker\":{\"color\":\"#00cc96\",\"size\":[9488],\"sizemode\":\"area\",\"sizeref\":11.950493827160495,\"symbol\":\"circle\"},\"mode\":\"markers\",\"name\":\"LAMBAYEQUE\",\"orientation\":\"v\",\"showlegend\":true,\"x\":[9488],\"xaxis\":\"x\",\"y\":[91.4],\"yaxis\":\"y\",\"type\":\"scatter\"},{\"hovertemplate\":\"DEPARTAMENTO=LA LIBERTAD<br>Fallecidos=%{marker.size}<br>Densidad=%{y}<extra></extra>\",\"legendgroup\":\"LA LIBERTAD\",\"marker\":{\"color\":\"#ab63fa\",\"size\":[11031],\"sizemode\":\"area\",\"sizeref\":11.950493827160495,\"symbol\":\"circle\"},\"mode\":\"markers\",\"name\":\"LA LIBERTAD\",\"orientation\":\"v\",\"showlegend\":true,\"x\":[11031],\"xaxis\":\"x\",\"y\":[76.7],\"yaxis\":\"y\",\"type\":\"scatter\"},{\"hovertemplate\":\"DEPARTAMENTO=TUMBES<br>Fallecidos=%{marker.size}<br>Densidad=%{y}<extra></extra>\",\"legendgroup\":\"TUMBES\",\"marker\":{\"color\":\"#FFA15A\",\"size\":[1754],\"sizemode\":\"area\",\"sizeref\":11.950493827160495,\"symbol\":\"circle\"},\"mode\":\"markers\",\"name\":\"TUMBES\",\"orientation\":\"v\",\"showlegend\":true,\"x\":[1754],\"xaxis\":\"x\",\"y\":[53.3],\"yaxis\":\"y\",\"type\":\"scatter\"},{\"hovertemplate\":\"DEPARTAMENTO=PIURA<br>Fallecidos=%{marker.size}<br>Densidad=%{y}<extra></extra>\",\"legendgroup\":\"PIURA\",\"marker\":{\"color\":\"#19d3f3\",\"size\":[13230],\"sizemode\":\"area\",\"sizeref\":11.950493827160495,\"symbol\":\"circle\"},\"mode\":\"markers\",\"name\":\"PIURA\",\"orientation\":\"v\",\"showlegend\":true,\"x\":[13230],\"xaxis\":\"x\",\"y\":[53.0],\"yaxis\":\"y\",\"type\":\"scatter\"},{\"hovertemplate\":\"DEPARTAMENTO=CAJAMARCA<br>Fallecidos=%{marker.size}<br>Densidad=%{y}<extra></extra>\",\"legendgroup\":\"CAJAMARCA\",\"marker\":{\"color\":\"#FF6692\",\"size\":[4608],\"sizemode\":\"area\",\"sizeref\":11.950493827160495,\"symbol\":\"circle\"},\"mode\":\"markers\",\"name\":\"CAJAMARCA\",\"orientation\":\"v\",\"showlegend\":true,\"x\":[4608],\"xaxis\":\"x\",\"y\":[46.3],\"yaxis\":\"y\",\"type\":\"scatter\"},{\"hovertemplate\":\"DEPARTAMENTO=ICA<br>Fallecidos=%{marker.size}<br>Densidad=%{y}<extra></extra>\",\"legendgroup\":\"ICA\",\"marker\":{\"color\":\"#B6E880\",\"size\":[9116],\"sizemode\":\"area\",\"sizeref\":11.950493827160495,\"symbol\":\"circle\"},\"mode\":\"markers\",\"name\":\"ICA\",\"orientation\":\"v\",\"showlegend\":true,\"x\":[9116],\"xaxis\":\"x\",\"y\":[38.4],\"yaxis\":\"y\",\"type\":\"scatter\"},{\"hovertemplate\":\"DEPARTAMENTO=ANCASH<br>Fallecidos=%{marker.size}<br>Densidad=%{y}<extra></extra>\",\"legendgroup\":\"ANCASH\",\"marker\":{\"color\":\"#FF97FF\",\"size\":[7391],\"sizemode\":\"area\",\"sizeref\":11.950493827160495,\"symbol\":\"circle\"},\"mode\":\"markers\",\"name\":\"ANCASH\",\"orientation\":\"v\",\"showlegend\":true,\"x\":[7391],\"xaxis\":\"x\",\"y\":[32.6],\"yaxis\":\"y\",\"type\":\"scatter\"},{\"hovertemplate\":\"DEPARTAMENTO=JUNIN<br>Fallecidos=%{marker.size}<br>Densidad=%{y}<extra></extra>\",\"legendgroup\":\"JUNIN\",\"marker\":{\"color\":\"#FECB52\",\"size\":[7621],\"sizemode\":\"area\",\"sizeref\":11.950493827160495,\"symbol\":\"circle\"},\"mode\":\"markers\",\"name\":\"JUNIN\",\"orientation\":\"v\",\"showlegend\":true,\"x\":[7621],\"xaxis\":\"x\",\"y\":[31.4],\"yaxis\":\"y\",\"type\":\"scatter\"},{\"hovertemplate\":\"DEPARTAMENTO=HUANUCO<br>Fallecidos=%{marker.size}<br>Densidad=%{y}<extra></extra>\",\"legendgroup\":\"HUANUCO\",\"marker\":{\"color\":\"#636efa\",\"size\":[2980],\"sizemode\":\"area\",\"sizeref\":11.950493827160495,\"symbol\":\"circle\"},\"mode\":\"markers\",\"name\":\"HUANUCO\",\"orientation\":\"v\",\"showlegend\":true,\"x\":[2980],\"xaxis\":\"x\",\"y\":[24.1],\"yaxis\":\"y\",\"type\":\"scatter\"},{\"hovertemplate\":\"DEPARTAMENTO=HUANCAVELICA<br>Fallecidos=%{marker.size}<br>Densidad=%{y}<extra></extra>\",\"legendgroup\":\"HUANCAVELICA\",\"marker\":{\"color\":\"#EF553B\",\"size\":[1300],\"sizemode\":\"area\",\"sizeref\":11.950493827160495,\"symbol\":\"circle\"},\"mode\":\"markers\",\"name\":\"HUANCAVELICA\",\"orientation\":\"v\",\"showlegend\":true,\"x\":[1300],\"xaxis\":\"x\",\"y\":[23.0],\"yaxis\":\"y\",\"type\":\"scatter\"},{\"hovertemplate\":\"DEPARTAMENTO=APURIMAC<br>Fallecidos=%{marker.size}<br>Densidad=%{y}<extra></extra>\",\"legendgroup\":\"APURIMAC\",\"marker\":{\"color\":\"#00cc96\",\"size\":[1694],\"sizemode\":\"area\",\"sizeref\":11.950493827160495,\"symbol\":\"circle\"},\"mode\":\"markers\",\"name\":\"APURIMAC\",\"orientation\":\"v\",\"showlegend\":true,\"x\":[1694],\"xaxis\":\"x\",\"y\":[22.3],\"yaxis\":\"y\",\"type\":\"scatter\"},{\"hovertemplate\":\"DEPARTAMENTO=AREQUIPA<br>Fallecidos=%{marker.size}<br>Densidad=%{y}<extra></extra>\",\"legendgroup\":\"AREQUIPA\",\"marker\":{\"color\":\"#ab63fa\",\"size\":[10602],\"sizemode\":\"area\",\"sizeref\":11.950493827160495,\"symbol\":\"circle\"},\"mode\":\"markers\",\"name\":\"AREQUIPA\",\"orientation\":\"v\",\"showlegend\":true,\"x\":[10602],\"xaxis\":\"x\",\"y\":[21.3],\"yaxis\":\"y\",\"type\":\"scatter\"},{\"hovertemplate\":\"DEPARTAMENTO=PUNO<br>Fallecidos=%{marker.size}<br>Densidad=%{y}<extra></extra>\",\"legendgroup\":\"PUNO\",\"marker\":{\"color\":\"#FFA15A\",\"size\":[4844],\"sizemode\":\"area\",\"sizeref\":11.950493827160495,\"symbol\":\"circle\"},\"mode\":\"markers\",\"name\":\"PUNO\",\"orientation\":\"v\",\"showlegend\":true,\"x\":[4844],\"xaxis\":\"x\",\"y\":[20.4],\"yaxis\":\"y\",\"type\":\"scatter\"},{\"hovertemplate\":\"DEPARTAMENTO=CUSCO<br>Fallecidos=%{marker.size}<br>Densidad=%{y}<extra></extra>\",\"legendgroup\":\"CUSCO\",\"marker\":{\"color\":\"#19d3f3\",\"size\":[5291],\"sizemode\":\"area\",\"sizeref\":11.950493827160495,\"symbol\":\"circle\"},\"mode\":\"markers\",\"name\":\"CUSCO\",\"orientation\":\"v\",\"showlegend\":true,\"x\":[5291],\"xaxis\":\"x\",\"y\":[18.7],\"yaxis\":\"y\",\"type\":\"scatter\"},{\"hovertemplate\":\"DEPARTAMENTO=SAN MARTIN<br>Fallecidos=%{marker.size}<br>Densidad=%{y}<extra></extra>\",\"legendgroup\":\"SAN MARTIN\",\"marker\":{\"color\":\"#FF6692\",\"size\":[3242],\"sizemode\":\"area\",\"sizeref\":11.950493827160495,\"symbol\":\"circle\"},\"mode\":\"markers\",\"name\":\"SAN MARTIN\",\"orientation\":\"v\",\"showlegend\":true,\"x\":[3242],\"xaxis\":\"x\",\"y\":[17.3],\"yaxis\":\"y\",\"type\":\"scatter\"},{\"hovertemplate\":\"DEPARTAMENTO=AYACUCHO<br>Fallecidos=%{marker.size}<br>Densidad=%{y}<extra></extra>\",\"legendgroup\":\"AYACUCHO\",\"marker\":{\"color\":\"#B6E880\",\"size\":[2407],\"sizemode\":\"area\",\"sizeref\":11.950493827160495,\"symbol\":\"circle\"},\"mode\":\"markers\",\"name\":\"AYACUCHO\",\"orientation\":\"v\",\"showlegend\":true,\"x\":[2407],\"xaxis\":\"x\",\"y\":[16.4],\"yaxis\":\"y\",\"type\":\"scatter\"},{\"hovertemplate\":\"DEPARTAMENTO=PASCO<br>Fallecidos=%{marker.size}<br>Densidad=%{y}<extra></extra>\",\"legendgroup\":\"PASCO\",\"marker\":{\"color\":\"#FF97FF\",\"size\":[1141],\"sizemode\":\"area\",\"sizeref\":11.950493827160495,\"symbol\":\"circle\"},\"mode\":\"markers\",\"name\":\"PASCO\",\"orientation\":\"v\",\"showlegend\":true,\"x\":[1141],\"xaxis\":\"x\",\"y\":[12.4],\"yaxis\":\"y\",\"type\":\"scatter\"},{\"hovertemplate\":\"DEPARTAMENTO=MOQUEGUA<br>Fallecidos=%{marker.size}<br>Densidad=%{y}<extra></extra>\",\"legendgroup\":\"MOQUEGUA\",\"marker\":{\"color\":\"#FECB52\",\"size\":[1717],\"sizemode\":\"area\",\"sizeref\":11.950493827160495,\"symbol\":\"circle\"},\"mode\":\"markers\",\"name\":\"MOQUEGUA\",\"orientation\":\"v\",\"showlegend\":true,\"x\":[1717],\"xaxis\":\"x\",\"y\":[11.9],\"yaxis\":\"y\",\"type\":\"scatter\"},{\"hovertemplate\":\"DEPARTAMENTO=AMAZONAS<br>Fallecidos=%{marker.size}<br>Densidad=%{y}<extra></extra>\",\"legendgroup\":\"AMAZONAS\",\"marker\":{\"color\":\"#636efa\",\"size\":[1409],\"sizemode\":\"area\",\"sizeref\":11.950493827160495,\"symbol\":\"circle\"},\"mode\":\"markers\",\"name\":\"AMAZONAS\",\"orientation\":\"v\",\"showlegend\":true,\"x\":[1409],\"xaxis\":\"x\",\"y\":[10.9],\"yaxis\":\"y\",\"type\":\"scatter\"},{\"hovertemplate\":\"DEPARTAMENTO=TACNA<br>Fallecidos=%{marker.size}<br>Densidad=%{y}<extra></extra>\",\"legendgroup\":\"TACNA\",\"marker\":{\"color\":\"#EF553B\",\"size\":[2261],\"sizemode\":\"area\",\"sizeref\":11.950493827160495,\"symbol\":\"circle\"},\"mode\":\"markers\",\"name\":\"TACNA\",\"orientation\":\"v\",\"showlegend\":true,\"x\":[2261],\"xaxis\":\"x\",\"y\":[7.0],\"yaxis\":\"y\",\"type\":\"scatter\"},{\"hovertemplate\":\"DEPARTAMENTO=UCAYALI<br>Fallecidos=%{marker.size}<br>Densidad=%{y}<extra></extra>\",\"legendgroup\":\"UCAYALI\",\"marker\":{\"color\":\"#00cc96\",\"size\":[3299],\"sizemode\":\"area\",\"sizeref\":11.950493827160495,\"symbol\":\"circle\"},\"mode\":\"markers\",\"name\":\"UCAYALI\",\"orientation\":\"v\",\"showlegend\":true,\"x\":[3299],\"xaxis\":\"x\",\"y\":[5.1],\"yaxis\":\"y\",\"type\":\"scatter\"},{\"hovertemplate\":\"DEPARTAMENTO=LORETO<br>Fallecidos=%{marker.size}<br>Densidad=%{y}<extra></extra>\",\"legendgroup\":\"LORETO\",\"marker\":{\"color\":\"#ab63fa\",\"size\":[4474],\"sizemode\":\"area\",\"sizeref\":11.950493827160495,\"symbol\":\"circle\"},\"mode\":\"markers\",\"name\":\"LORETO\",\"orientation\":\"v\",\"showlegend\":true,\"x\":[4474],\"xaxis\":\"x\",\"y\":[2.9],\"yaxis\":\"y\",\"type\":\"scatter\"},{\"hovertemplate\":\"DEPARTAMENTO=MADRE DE DIOS<br>Fallecidos=%{marker.size}<br>Densidad=%{y}<extra></extra>\",\"legendgroup\":\"MADRE DE DIOS\",\"marker\":{\"color\":\"#FFA15A\",\"size\":[888],\"sizemode\":\"area\",\"sizeref\":11.950493827160495,\"symbol\":\"circle\"},\"mode\":\"markers\",\"name\":\"MADRE DE DIOS\",\"orientation\":\"v\",\"showlegend\":true,\"x\":[888],\"xaxis\":\"x\",\"y\":[1.8],\"yaxis\":\"y\",\"type\":\"scatter\"}],                        {\"template\":{\"data\":{\"histogram2dcontour\":[{\"type\":\"histogram2dcontour\",\"colorbar\":{\"outlinewidth\":0,\"ticks\":\"\"},\"colorscale\":[[0.0,\"#0d0887\"],[0.1111111111111111,\"#46039f\"],[0.2222222222222222,\"#7201a8\"],[0.3333333333333333,\"#9c179e\"],[0.4444444444444444,\"#bd3786\"],[0.5555555555555556,\"#d8576b\"],[0.6666666666666666,\"#ed7953\"],[0.7777777777777778,\"#fb9f3a\"],[0.8888888888888888,\"#fdca26\"],[1.0,\"#f0f921\"]]}],\"choropleth\":[{\"type\":\"choropleth\",\"colorbar\":{\"outlinewidth\":0,\"ticks\":\"\"}}],\"histogram2d\":[{\"type\":\"histogram2d\",\"colorbar\":{\"outlinewidth\":0,\"ticks\":\"\"},\"colorscale\":[[0.0,\"#0d0887\"],[0.1111111111111111,\"#46039f\"],[0.2222222222222222,\"#7201a8\"],[0.3333333333333333,\"#9c179e\"],[0.4444444444444444,\"#bd3786\"],[0.5555555555555556,\"#d8576b\"],[0.6666666666666666,\"#ed7953\"],[0.7777777777777778,\"#fb9f3a\"],[0.8888888888888888,\"#fdca26\"],[1.0,\"#f0f921\"]]}],\"heatmap\":[{\"type\":\"heatmap\",\"colorbar\":{\"outlinewidth\":0,\"ticks\":\"\"},\"colorscale\":[[0.0,\"#0d0887\"],[0.1111111111111111,\"#46039f\"],[0.2222222222222222,\"#7201a8\"],[0.3333333333333333,\"#9c179e\"],[0.4444444444444444,\"#bd3786\"],[0.5555555555555556,\"#d8576b\"],[0.6666666666666666,\"#ed7953\"],[0.7777777777777778,\"#fb9f3a\"],[0.8888888888888888,\"#fdca26\"],[1.0,\"#f0f921\"]]}],\"heatmapgl\":[{\"type\":\"heatmapgl\",\"colorbar\":{\"outlinewidth\":0,\"ticks\":\"\"},\"colorscale\":[[0.0,\"#0d0887\"],[0.1111111111111111,\"#46039f\"],[0.2222222222222222,\"#7201a8\"],[0.3333333333333333,\"#9c179e\"],[0.4444444444444444,\"#bd3786\"],[0.5555555555555556,\"#d8576b\"],[0.6666666666666666,\"#ed7953\"],[0.7777777777777778,\"#fb9f3a\"],[0.8888888888888888,\"#fdca26\"],[1.0,\"#f0f921\"]]}],\"contourcarpet\":[{\"type\":\"contourcarpet\",\"colorbar\":{\"outlinewidth\":0,\"ticks\":\"\"}}],\"contour\":[{\"type\":\"contour\",\"colorbar\":{\"outlinewidth\":0,\"ticks\":\"\"},\"colorscale\":[[0.0,\"#0d0887\"],[0.1111111111111111,\"#46039f\"],[0.2222222222222222,\"#7201a8\"],[0.3333333333333333,\"#9c179e\"],[0.4444444444444444,\"#bd3786\"],[0.5555555555555556,\"#d8576b\"],[0.6666666666666666,\"#ed7953\"],[0.7777777777777778,\"#fb9f3a\"],[0.8888888888888888,\"#fdca26\"],[1.0,\"#f0f921\"]]}],\"surface\":[{\"type\":\"surface\",\"colorbar\":{\"outlinewidth\":0,\"ticks\":\"\"},\"colorscale\":[[0.0,\"#0d0887\"],[0.1111111111111111,\"#46039f\"],[0.2222222222222222,\"#7201a8\"],[0.3333333333333333,\"#9c179e\"],[0.4444444444444444,\"#bd3786\"],[0.5555555555555556,\"#d8576b\"],[0.6666666666666666,\"#ed7953\"],[0.7777777777777778,\"#fb9f3a\"],[0.8888888888888888,\"#fdca26\"],[1.0,\"#f0f921\"]]}],\"mesh3d\":[{\"type\":\"mesh3d\",\"colorbar\":{\"outlinewidth\":0,\"ticks\":\"\"}}],\"scatter\":[{\"fillpattern\":{\"fillmode\":\"overlay\",\"size\":10,\"solidity\":0.2},\"type\":\"scatter\"}],\"parcoords\":[{\"type\":\"parcoords\",\"line\":{\"colorbar\":{\"outlinewidth\":0,\"ticks\":\"\"}}}],\"scatterpolargl\":[{\"type\":\"scatterpolargl\",\"marker\":{\"colorbar\":{\"outlinewidth\":0,\"ticks\":\"\"}}}],\"bar\":[{\"error_x\":{\"color\":\"#2a3f5f\"},\"error_y\":{\"color\":\"#2a3f5f\"},\"marker\":{\"line\":{\"color\":\"#E5ECF6\",\"width\":0.5},\"pattern\":{\"fillmode\":\"overlay\",\"size\":10,\"solidity\":0.2}},\"type\":\"bar\"}],\"scattergeo\":[{\"type\":\"scattergeo\",\"marker\":{\"colorbar\":{\"outlinewidth\":0,\"ticks\":\"\"}}}],\"scatterpolar\":[{\"type\":\"scatterpolar\",\"marker\":{\"colorbar\":{\"outlinewidth\":0,\"ticks\":\"\"}}}],\"histogram\":[{\"marker\":{\"pattern\":{\"fillmode\":\"overlay\",\"size\":10,\"solidity\":0.2}},\"type\":\"histogram\"}],\"scattergl\":[{\"type\":\"scattergl\",\"marker\":{\"colorbar\":{\"outlinewidth\":0,\"ticks\":\"\"}}}],\"scatter3d\":[{\"type\":\"scatter3d\",\"line\":{\"colorbar\":{\"outlinewidth\":0,\"ticks\":\"\"}},\"marker\":{\"colorbar\":{\"outlinewidth\":0,\"ticks\":\"\"}}}],\"scattermapbox\":[{\"type\":\"scattermapbox\",\"marker\":{\"colorbar\":{\"outlinewidth\":0,\"ticks\":\"\"}}}],\"scatterternary\":[{\"type\":\"scatterternary\",\"marker\":{\"colorbar\":{\"outlinewidth\":0,\"ticks\":\"\"}}}],\"scattercarpet\":[{\"type\":\"scattercarpet\",\"marker\":{\"colorbar\":{\"outlinewidth\":0,\"ticks\":\"\"}}}],\"carpet\":[{\"aaxis\":{\"endlinecolor\":\"#2a3f5f\",\"gridcolor\":\"white\",\"linecolor\":\"white\",\"minorgridcolor\":\"white\",\"startlinecolor\":\"#2a3f5f\"},\"baxis\":{\"endlinecolor\":\"#2a3f5f\",\"gridcolor\":\"white\",\"linecolor\":\"white\",\"minorgridcolor\":\"white\",\"startlinecolor\":\"#2a3f5f\"},\"type\":\"carpet\"}],\"table\":[{\"cells\":{\"fill\":{\"color\":\"#EBF0F8\"},\"line\":{\"color\":\"white\"}},\"header\":{\"fill\":{\"color\":\"#C8D4E3\"},\"line\":{\"color\":\"white\"}},\"type\":\"table\"}],\"barpolar\":[{\"marker\":{\"line\":{\"color\":\"#E5ECF6\",\"width\":0.5},\"pattern\":{\"fillmode\":\"overlay\",\"size\":10,\"solidity\":0.2}},\"type\":\"barpolar\"}],\"pie\":[{\"automargin\":true,\"type\":\"pie\"}]},\"layout\":{\"autotypenumbers\":\"strict\",\"colorway\":[\"#636efa\",\"#EF553B\",\"#00cc96\",\"#ab63fa\",\"#FFA15A\",\"#19d3f3\",\"#FF6692\",\"#B6E880\",\"#FF97FF\",\"#FECB52\"],\"font\":{\"color\":\"#2a3f5f\"},\"hovermode\":\"closest\",\"hoverlabel\":{\"align\":\"left\"},\"paper_bgcolor\":\"white\",\"plot_bgcolor\":\"#E5ECF6\",\"polar\":{\"bgcolor\":\"#E5ECF6\",\"angularaxis\":{\"gridcolor\":\"white\",\"linecolor\":\"white\",\"ticks\":\"\"},\"radialaxis\":{\"gridcolor\":\"white\",\"linecolor\":\"white\",\"ticks\":\"\"}},\"ternary\":{\"bgcolor\":\"#E5ECF6\",\"aaxis\":{\"gridcolor\":\"white\",\"linecolor\":\"white\",\"ticks\":\"\"},\"baxis\":{\"gridcolor\":\"white\",\"linecolor\":\"white\",\"ticks\":\"\"},\"caxis\":{\"gridcolor\":\"white\",\"linecolor\":\"white\",\"ticks\":\"\"}},\"coloraxis\":{\"colorbar\":{\"outlinewidth\":0,\"ticks\":\"\"}},\"colorscale\":{\"sequential\":[[0.0,\"#0d0887\"],[0.1111111111111111,\"#46039f\"],[0.2222222222222222,\"#7201a8\"],[0.3333333333333333,\"#9c179e\"],[0.4444444444444444,\"#bd3786\"],[0.5555555555555556,\"#d8576b\"],[0.6666666666666666,\"#ed7953\"],[0.7777777777777778,\"#fb9f3a\"],[0.8888888888888888,\"#fdca26\"],[1.0,\"#f0f921\"]],\"sequentialminus\":[[0.0,\"#0d0887\"],[0.1111111111111111,\"#46039f\"],[0.2222222222222222,\"#7201a8\"],[0.3333333333333333,\"#9c179e\"],[0.4444444444444444,\"#bd3786\"],[0.5555555555555556,\"#d8576b\"],[0.6666666666666666,\"#ed7953\"],[0.7777777777777778,\"#fb9f3a\"],[0.8888888888888888,\"#fdca26\"],[1.0,\"#f0f921\"]],\"diverging\":[[0,\"#8e0152\"],[0.1,\"#c51b7d\"],[0.2,\"#de77ae\"],[0.3,\"#f1b6da\"],[0.4,\"#fde0ef\"],[0.5,\"#f7f7f7\"],[0.6,\"#e6f5d0\"],[0.7,\"#b8e186\"],[0.8,\"#7fbc41\"],[0.9,\"#4d9221\"],[1,\"#276419\"]]},\"xaxis\":{\"gridcolor\":\"white\",\"linecolor\":\"white\",\"ticks\":\"\",\"title\":{\"standoff\":15},\"zerolinecolor\":\"white\",\"automargin\":true,\"zerolinewidth\":2},\"yaxis\":{\"gridcolor\":\"white\",\"linecolor\":\"white\",\"ticks\":\"\",\"title\":{\"standoff\":15},\"zerolinecolor\":\"white\",\"automargin\":true,\"zerolinewidth\":2},\"scene\":{\"xaxis\":{\"backgroundcolor\":\"#E5ECF6\",\"gridcolor\":\"white\",\"linecolor\":\"white\",\"showbackground\":true,\"ticks\":\"\",\"zerolinecolor\":\"white\",\"gridwidth\":2},\"yaxis\":{\"backgroundcolor\":\"#E5ECF6\",\"gridcolor\":\"white\",\"linecolor\":\"white\",\"showbackground\":true,\"ticks\":\"\",\"zerolinecolor\":\"white\",\"gridwidth\":2},\"zaxis\":{\"backgroundcolor\":\"#E5ECF6\",\"gridcolor\":\"white\",\"linecolor\":\"white\",\"showbackground\":true,\"ticks\":\"\",\"zerolinecolor\":\"white\",\"gridwidth\":2}},\"shapedefaults\":{\"line\":{\"color\":\"#2a3f5f\"}},\"annotationdefaults\":{\"arrowcolor\":\"#2a3f5f\",\"arrowhead\":0,\"arrowwidth\":1},\"geo\":{\"bgcolor\":\"white\",\"landcolor\":\"#E5ECF6\",\"subunitcolor\":\"white\",\"showland\":true,\"showlakes\":true,\"lakecolor\":\"white\"},\"title\":{\"x\":0.05},\"mapbox\":{\"style\":\"light\"}}},\"xaxis\":{\"anchor\":\"y\",\"domain\":[0.0,1.0],\"title\":{\"text\":\"Fallecidos\"},\"type\":\"log\"},\"yaxis\":{\"anchor\":\"x\",\"domain\":[0.0,1.0],\"title\":{\"text\":\"Densidad\"},\"type\":\"log\"},\"legend\":{\"title\":{\"text\":\"DEPARTAMENTO\"},\"tracegroupgap\":0,\"itemsizing\":\"constant\"},\"title\":{\"text\":\" Relacion Fallecidos COVID/Densidad Poblacional\"},\"height\":700,\"shapes\":[{\"line\":{\"color\":\"black\",\"width\":0.2},\"type\":\"line\",\"x0\":1000,\"x1\":50000,\"y0\":5,\"y1\":200}]},                        {\"responsive\": true}                    ).then(function(){\n",
       "                            \n",
       "var gd = document.getElementById('3d3edfca-aa0b-4799-8140-5b530dd356a0');\n",
       "var x = new MutationObserver(function (mutations, observer) {{\n",
       "        var display = window.getComputedStyle(gd).display;\n",
       "        if (!display || display === 'none') {{\n",
       "            console.log([gd, 'removed!']);\n",
       "            Plotly.purge(gd);\n",
       "            observer.disconnect();\n",
       "        }}\n",
       "}});\n",
       "\n",
       "// Listen for the removal of the full notebook cells\n",
       "var notebookContainer = gd.closest('#notebook-container');\n",
       "if (notebookContainer) {{\n",
       "    x.observe(notebookContainer, {childList: true});\n",
       "}}\n",
       "\n",
       "// Listen for the clearing of the current output cell\n",
       "var outputEl = gd.closest('.output');\n",
       "if (outputEl) {{\n",
       "    x.observe(outputEl, {childList: true});\n",
       "}}\n",
       "\n",
       "                        })                };                });            </script>        </div>"
      ]
     },
     "metadata": {},
     "output_type": "display_data"
    }
   ],
   "source": [
    "import plotly.express as px\n",
    "\n",
    "fig = px.scatter(df_ordenado, x=\"Fallecidos\", y=\"Densidad\", color=\"DEPARTAMENTO\",\n",
    "                 size='Fallecidos',\n",
    "                 size_max=90,\n",
    "                 log_y=True,\n",
    "                 log_x=True, \n",
    "                 title=\" Relacion Fallecidos COVID/Densidad Poblacional\", height=700)\n",
    "fig.add_shape(type=\"line\", x0=1000, y0=5, x1=50000, y1=200, line=dict(color=\"black\", width=0.2))\n",
    "\n",
    "fig.show()"
   ]
  },
  {
   "cell_type": "code",
   "execution_count": null,
   "id": "a3c4cad4",
   "metadata": {},
   "outputs": [],
   "source": []
  }
 ],
 "metadata": {
  "kernelspec": {
   "display_name": "Python 3 (ipykernel)",
   "language": "python",
   "name": "python3"
  },
  "language_info": {
   "codemirror_mode": {
    "name": "ipython",
    "version": 3
   },
   "file_extension": ".py",
   "mimetype": "text/x-python",
   "name": "python",
   "nbconvert_exporter": "python",
   "pygments_lexer": "ipython3",
   "version": "3.7.1"
  }
 },
 "nbformat": 4,
 "nbformat_minor": 5
}
